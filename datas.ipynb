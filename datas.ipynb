{
 "cells": [
  {
   "cell_type": "code",
   "execution_count": 1,
   "metadata": {},
   "outputs": [],
   "source": [
    "import pandas as pd"
   ]
  },
  {
   "cell_type": "code",
   "execution_count": 2,
   "metadata": {},
   "outputs": [],
   "source": [
    "# 기존 연월일 데이터를 연월로 다시 다운로드 후 전처리 재 진행\n",
    "# 2020년 10월 ~ 2022년 12월\n",
    "pd.set_option('display.float_format', '{:,.2f}'.format) # 컬럼에서 값이 e로 나오는 것을 식별가능한 숫자로 변경\n",
    "bit_copy = pd.read_csv('./data/bit_mon.csv')\n",
    "eth_copy = pd.read_csv('./data/eth_mon.csv')\n",
    "wemix_copy = pd.read_csv('./data/wemix_month.csv')\n",
    "luna_copy = pd.read_csv('./data/luna.csv')"
   ]
  },
  {
   "cell_type": "code",
   "execution_count": 3,
   "metadata": {},
   "outputs": [],
   "source": [
    "# 오픈, 고가, 저가, 변동 % 삭제\n",
    "bit_copy.drop(bit_copy.columns[[2,3,4,6]], axis=1, inplace=True)\n",
    "eth_copy.drop(eth_copy.columns[[2,3,4,6]], axis=1, inplace=True)\n",
    "wemix_copy.drop(wemix_copy.columns[[2,3,4,6]], axis=1, inplace=True)\n",
    "luna_copy.drop(luna_copy.columns[[2,3,4,6]], axis=1, inplace=True)"
   ]
  },
  {
   "cell_type": "code",
   "execution_count": 5,
   "metadata": {},
   "outputs": [],
   "source": [
    "# 루나의 거래량에 '-' 인게 있어서 '0'으로 수정\n",
    "for i in range(len(luna_copy['거래량'])):\n",
    "    if luna_copy['거래량'][i] == '-':\n",
    "        luna_copy['거래량'][i] = '0'"
   ]
  },
  {
   "cell_type": "code",
   "execution_count": 6,
   "metadata": {},
   "outputs": [],
   "source": [
    "# Python: Convert string with comma separator and dot to float\n",
    "import locale\n",
    "locale.setlocale(locale.LC_ALL, 'en_US.UTF-8')\n",
    "\n",
    "bit_copy['종가'] = bit_copy['종가'].map(locale.atof)\n",
    "eth_copy['종가'] = eth_copy['종가'].map(locale.atof)"
   ]
  },
  {
   "cell_type": "code",
   "execution_count": null,
   "metadata": {},
   "outputs": [],
   "source": [
    "# K, M, B 경우 따로 처리 진행(비트)\n",
    "for i in range(len(bit_copy['거래량'])):\n",
    "    if bit_copy['거래량'][i][-1] == 'K': # 마지막 단어가 K인 경우\n",
    "        bit_copy['거래량'][i] = bit_copy['거래량'][i][:-1] # 마지막 단어 K를 없앰\n",
    "        bit_copy['거래량'][i] = float(bit_copy['거래량'][i])\n",
    "        bit_copy['거래량'][i] *= 1000 # 단위수 맞춤\n",
    "    elif bit_copy['거래량'][i][-1] == 'M':\n",
    "        bit_copy['거래량'][i] = bit_copy['거래량'][i][:-1] # 마지막 단어 M을 없앰\n",
    "        bit_copy['거래량'][i] = float(bit_copy['거래량'][i])\n",
    "        bit_copy['거래량'][i] *= 1000000 # 단위수 맞춤\n",
    "    elif bit_copy['거래량'][i][-1] == 'B':\n",
    "        bit_copy['거래량'][i] = bit_copy['거래량'][i][:-1] # 마지막 단어 B를 없앰\n",
    "        bit_copy['거래량'][i] = float(bit_copy['거래량'][i])\n",
    "        bit_copy['거래량'][i] *= 1000000000 # 단위수 맞춤"
   ]
  },
  {
   "cell_type": "code",
   "execution_count": null,
   "metadata": {},
   "outputs": [],
   "source": [
    "# K, M, B 경우 따로 처리 진행(이더)\n",
    "for i in range(len(eth_copy['거래량'])):\n",
    "    if eth_copy['거래량'][i][-1] == 'K': # 마지막 단어가 K인 경우\n",
    "        eth_copy['거래량'][i] = eth_copy['거래량'][i][:-1] # 마지막 단어 K를 없앰\n",
    "        eth_copy['거래량'][i] = float(eth_copy['거래량'][i])\n",
    "        eth_copy['거래량'][i] *= 1000 # 단위수 맞춤\n",
    "    elif eth_copy['거래량'][i][-1] == 'M':\n",
    "        eth_copy['거래량'][i] = eth_copy['거래량'][i][:-1] # 마지막 단어 M을 없앰\n",
    "        eth_copy['거래량'][i] = float(eth_copy['거래량'][i])\n",
    "        eth_copy['거래량'][i] *= 1000000 # 단위수 맞춤\n",
    "    elif eth_copy['거래량'][i][-1] == 'B':\n",
    "        eth_copy['거래량'][i] = eth_copy['거래량'][i][:-1] # 마지막 단어 B를 없앰\n",
    "        eth_copy['거래량'][i] = float(eth_copy['거래량'][i])\n",
    "        eth_copy['거래량'][i] *= 1000000000 # 단위수 맞춤"
   ]
  },
  {
   "cell_type": "code",
   "execution_count": null,
   "metadata": {},
   "outputs": [],
   "source": [
    "# K, M, B 경우 따로 처리 진행(위믹스)\n",
    "for i in range(len(wemix_copy['거래량'])):\n",
    "    if wemix_copy['거래량'][i][-1] == 'K': # 마지막 단어가 K인 경우\n",
    "        wemix_copy['거래량'][i] = wemix_copy['거래량'][i][:-1] # 마지막 단어 K를 없앰\n",
    "        wemix_copy['거래량'][i] = float(wemix_copy['거래량'][i])\n",
    "        wemix_copy['거래량'][i] *= 1000 # 단위수 맞춤\n",
    "    elif wemix_copy['거래량'][i][-1] == 'M':\n",
    "        wemix_copy['거래량'][i] = wemix_copy['거래량'][i][:-1] # 마지막 단어 M을 없앰\n",
    "        wemix_copy['거래량'][i] = float(wemix_copy['거래량'][i])\n",
    "        wemix_copy['거래량'][i] *= 1000000 # 단위수 맞춤\n",
    "    elif wemix_copy['거래량'][i][-1] == 'B':\n",
    "        wemix_copy['거래량'][i] = wemix_copy['거래량'][i][:-1] # 마지막 단어 B를 없앰\n",
    "        wemix_copy['거래량'][i] = float(wemix_copy['거래량'][i])\n",
    "        wemix_copy['거래량'][i] *= 1000000000 # 단위수 맞춤"
   ]
  },
  {
   "cell_type": "code",
   "execution_count": null,
   "metadata": {},
   "outputs": [],
   "source": [
    "# K, M, B 경우 따로 처리 진행 (루나)\n",
    "for i in range(len(luna_copy['거래량'])):\n",
    "    if luna_copy['거래량'][i][-1] == 'M':\n",
    "        luna_copy['거래량'][i] = luna_copy['거래량'][i][:-1] # 마지막 단어 M을 없앰\n",
    "        luna_copy['거래량'][i] = float(luna_copy['거래량'][i])\n",
    "        luna_copy['거래량'][i] *= 1000000 # 단위수 맞춤\n",
    "    elif luna_copy['거래량'][i][-1] == 'B':\n",
    "        luna_copy['거래량'][i] = '0'"
   ]
  },
  {
   "cell_type": "code",
   "execution_count": 12,
   "metadata": {},
   "outputs": [],
   "source": [
    "# 날짜를 연, 월로 분리하고 싶음\n",
    "\n",
    "# 날짜의 데이터는 '2022년 12월'로 구분자가 2개가 있음.\n",
    "# 구분자를 하나로 변경.\n",
    "bit_copy['날짜'] = bit_copy['날짜'].apply(lambda x: x.replace('년 ','-').replace('월', ''))\n",
    "\n",
    "dates = bit_copy['날짜'].str.split('-') # 리스트로 데이터 리턴\n",
    "bit_copy['연'] = dates.str.get(0)\n",
    "bit_copy['월'] = dates.str.get(1)"
   ]
  },
  {
   "cell_type": "code",
   "execution_count": 13,
   "metadata": {},
   "outputs": [],
   "source": [
    "# 날짜를 연, 월로 분리하고 싶음\n",
    "\n",
    "# 날짜의 데이터는 '2022년 12월'로 구분자가 2개가 있음.\n",
    "# 구분자를 하나로 변경.\n",
    "eth_copy['날짜'] = eth_copy['날짜'].apply(lambda x: x.replace('년 ','-').replace('월', ''))\n",
    "\n",
    "dates = eth_copy['날짜'].str.split('-') # 리스트로 데이터 리턴\n",
    "eth_copy['연'] = dates.str.get(0)\n",
    "eth_copy['월'] = dates.str.get(1)"
   ]
  },
  {
   "cell_type": "code",
   "execution_count": 14,
   "metadata": {},
   "outputs": [],
   "source": [
    "# 날짜를 연, 월로 분리하고 싶음\n",
    "\n",
    "# 날짜의 데이터는 '2022년 12월'로 구분자가 2개가 있음.\n",
    "# 구분자를 하나로 변경.\n",
    "wemix_copy['날짜'] = wemix_copy['날짜'].apply(lambda x: x.replace('년 ','-').replace('월', ''))\n",
    "\n",
    "dates = wemix_copy['날짜'].str.split('-') # 리스트로 데이터 리턴\n",
    "wemix_copy['연'] = dates.str.get(0)\n",
    "wemix_copy['월'] = dates.str.get(1)"
   ]
  },
  {
   "cell_type": "code",
   "execution_count": 15,
   "metadata": {},
   "outputs": [],
   "source": [
    "# 날짜를 연, 월로 분리하고 싶음\n",
    "\n",
    "# 날짜의 데이터는 '2022년 12월'로 구분자가 2개가 있음.\n",
    "# 구분자를 하나로 변경.\n",
    "luna_copy['날짜'] = luna_copy['날짜'].apply(lambda x: x.replace('년 ','-').replace('월', ''))\n",
    "\n",
    "dates = luna_copy['날짜'].str.split('-') # 리스트로 데이터 리턴\n",
    "luna_copy['연'] = dates.str.get(0)\n",
    "luna_copy['월'] = dates.str.get(1)"
   ]
  },
  {
   "cell_type": "code",
   "execution_count": null,
   "metadata": {},
   "outputs": [],
   "source": [
    "# 월이 1자리수인 경우에는 2자리수로 바꿈\n",
    "for i in range(len(bit_copy['월'])):\n",
    "    if len(bit_copy['월'][i]) == 1:\n",
    "        bit_copy['월'][i] = '0' + bit_copy['월'][i]"
   ]
  },
  {
   "cell_type": "code",
   "execution_count": null,
   "metadata": {},
   "outputs": [],
   "source": [
    "# 월이 1자리수인 경우에는 2자리수로 바꿈\n",
    "for i in range(len(eth_copy['월'])):\n",
    "    if len(eth_copy['월'][i]) == 1:\n",
    "        eth_copy['월'][i] = '0' + eth_copy['월'][i]"
   ]
  },
  {
   "cell_type": "code",
   "execution_count": null,
   "metadata": {},
   "outputs": [],
   "source": [
    "# 월이 1자리수인 경우에는 2자리수로 바꿈\n",
    "for i in range(len(wemix_copy['월'])):\n",
    "    if len(wemix_copy['월'][i]) == 1:\n",
    "        wemix_copy['월'][i] = '0' + wemix_copy['월'][i]"
   ]
  },
  {
   "cell_type": "code",
   "execution_count": null,
   "metadata": {},
   "outputs": [],
   "source": [
    "# 월이 1자리수인 경우에는 2자리수로 바꿈\n",
    "for i in range(len(luna_copy['월'])):\n",
    "    if len(luna_copy['월'][i]) == 1:\n",
    "        luna_copy['월'][i] = '0' + luna_copy['월'][i]"
   ]
  },
  {
   "cell_type": "code",
   "execution_count": 273,
   "metadata": {},
   "outputs": [
    {
     "name": "stderr",
     "output_type": "stream",
     "text": [
      "C:\\Users\\Jasper\\AppData\\Local\\Temp\\ipykernel_38336\\1829434536.py:3: SettingWithCopyWarning: \n",
      "A value is trying to be set on a copy of a slice from a DataFrame\n",
      "\n",
      "See the caveats in the documentation: https://pandas.pydata.org/pandas-docs/stable/user_guide/indexing.html#returning-a-view-versus-a-copy\n",
      "  bit_copy['날짜'][i] = bit_copy['연'][i] + '.'+ bit_copy['월'][i]\n"
     ]
    }
   ],
   "source": [
    "# 날짜를 2022.12 같은 형식으로 바꾸고 싶음(환율 데이터와 통일)\n",
    "for i in range(len(bit_copy['날짜'])):\n",
    "    bit_copy['날짜'][i] = bit_copy['연'][i] + '.'+ bit_copy['월'][i]"
   ]
  },
  {
   "cell_type": "code",
   "execution_count": 274,
   "metadata": {},
   "outputs": [
    {
     "name": "stderr",
     "output_type": "stream",
     "text": [
      "C:\\Users\\Jasper\\AppData\\Local\\Temp\\ipykernel_38336\\4270571013.py:3: SettingWithCopyWarning: \n",
      "A value is trying to be set on a copy of a slice from a DataFrame\n",
      "\n",
      "See the caveats in the documentation: https://pandas.pydata.org/pandas-docs/stable/user_guide/indexing.html#returning-a-view-versus-a-copy\n",
      "  eth_copy['날짜'][i] = eth_copy['연'][i] + '.'+ eth_copy['월'][i]\n"
     ]
    }
   ],
   "source": [
    "# 날짜를 2022.12 같은 형식으로 바꾸고 싶음(환율 데이터와 통일)\n",
    "for i in range(len(eth_copy['날짜'])):\n",
    "    eth_copy['날짜'][i] = eth_copy['연'][i] + '.'+ eth_copy['월'][i]"
   ]
  },
  {
   "cell_type": "code",
   "execution_count": 275,
   "metadata": {},
   "outputs": [
    {
     "name": "stderr",
     "output_type": "stream",
     "text": [
      "C:\\Users\\Jasper\\AppData\\Local\\Temp\\ipykernel_38336\\779737643.py:3: SettingWithCopyWarning: \n",
      "A value is trying to be set on a copy of a slice from a DataFrame\n",
      "\n",
      "See the caveats in the documentation: https://pandas.pydata.org/pandas-docs/stable/user_guide/indexing.html#returning-a-view-versus-a-copy\n",
      "  wemix_copy['날짜'][i] = wemix_copy['연'][i] + '.'+ wemix_copy['월'][i]\n"
     ]
    }
   ],
   "source": [
    "# 날짜를 2022.12 같은 형식으로 바꾸고 싶음(환율 데이터와 통일)\n",
    "for i in range(len(wemix_copy['날짜'])):\n",
    "    wemix_copy['날짜'][i] = wemix_copy['연'][i] + '.'+ wemix_copy['월'][i]"
   ]
  },
  {
   "cell_type": "code",
   "execution_count": 276,
   "metadata": {},
   "outputs": [
    {
     "name": "stderr",
     "output_type": "stream",
     "text": [
      "C:\\Users\\Jasper\\AppData\\Local\\Temp\\ipykernel_38336\\1687377038.py:3: SettingWithCopyWarning: \n",
      "A value is trying to be set on a copy of a slice from a DataFrame\n",
      "\n",
      "See the caveats in the documentation: https://pandas.pydata.org/pandas-docs/stable/user_guide/indexing.html#returning-a-view-versus-a-copy\n",
      "  luna_copy['날짜'][i] = luna_copy['연'][i] + '.'+ luna_copy['월'][i]\n"
     ]
    }
   ],
   "source": [
    "# 날짜를 2022.12 같은 형식으로 바꾸고 싶음(환율 데이터와 통일)\n",
    "for i in range(len(luna_copy['날짜'])):\n",
    "    luna_copy['날짜'][i] = luna_copy['연'][i] + '.'+ luna_copy['월'][i]"
   ]
  },
  {
   "cell_type": "code",
   "execution_count": 20,
   "metadata": {},
   "outputs": [],
   "source": [
    "# '종류'라는 컬럼 추가\n",
    "bit_copy['종류'] = '비트코인'\n",
    "eth_copy['종류'] = '이더리움'\n",
    "wemix_copy['종류'] = '위믹스'\n",
    "luna_copy['종류'] = '루나'"
   ]
  },
  {
   "cell_type": "code",
   "execution_count": 21,
   "metadata": {},
   "outputs": [],
   "source": [
    "# 하다보니 현재 금액이 USD로 되어 있기 때문에 KRW로 변환하고 싶음\n",
    "ex_rate = pd.read_excel('./data/MonAvgStdExRate.xlsx') # 월평균 매매 기준율(2020.10 ~ 2022.12) 생성 (서울외국환중개)\n",
    "ex_rate.loc[26] = ['2022.12','',float(1302.02)] # 12월 매매기준율 평균\n",
    "ex_rate.sort_values('날짜', ascending=False, inplace=True) # 날짜 기준 내림차순(최신순)으로 정렬\n",
    "# 날짜를 연 월로 분리 (2020.12 형식임)\n",
    "ex_dates = ex_rate['날짜'].str.split('.') # 리스트로 데이터 리턴\n",
    "ex_rate['연'] = ex_dates.str.get(0)\n",
    "ex_rate['월'] = ex_dates.str.get(1)\n",
    "# 날짜, 통화명 제거\n",
    "del ex_rate['날짜']\n",
    "del ex_rate['통화명']\n",
    "# 컬럼명 변경\n",
    "ex_rate.rename(columns={'월평균 매매기준율':'환율'}, inplace=True)\n",
    "# 컬럼 순서 변경\n",
    "ex_rate = ex_rate[['연','월','환율']]\n",
    "# '월' 컬럼에 공백이 있음으로 처리\n",
    "ex_rate['월'] = ex_rate['월'].str.strip()"
   ]
  },
  {
   "cell_type": "code",
   "execution_count": 22,
   "metadata": {},
   "outputs": [
    {
     "data": {
      "text/html": [
       "<div>\n",
       "<style scoped>\n",
       "    .dataframe tbody tr th:only-of-type {\n",
       "        vertical-align: middle;\n",
       "    }\n",
       "\n",
       "    .dataframe tbody tr th {\n",
       "        vertical-align: top;\n",
       "    }\n",
       "\n",
       "    .dataframe thead th {\n",
       "        text-align: right;\n",
       "    }\n",
       "</style>\n",
       "<table border=\"1\" class=\"dataframe\">\n",
       "  <thead>\n",
       "    <tr style=\"text-align: right;\">\n",
       "      <th></th>\n",
       "      <th>환율</th>\n",
       "    </tr>\n",
       "  </thead>\n",
       "  <tbody>\n",
       "    <tr>\n",
       "      <th>1</th>\n",
       "      <td>1,116.76</td>\n",
       "    </tr>\n",
       "  </tbody>\n",
       "</table>\n",
       "</div>"
      ],
      "text/plain": [
       "        환율\n",
       "1 1,116.76"
      ]
     },
     "execution_count": 22,
     "metadata": {},
     "output_type": "execute_result"
    }
   ],
   "source": [
    "# 연 월로 환율 조회하는 방법\n",
    "ex_rate.loc[(ex_rate['연'] =='2020') & (ex_rate['월'] =='11'),['환율']]"
   ]
  },
  {
   "cell_type": "code",
   "execution_count": 23,
   "metadata": {},
   "outputs": [
    {
     "name": "stdout",
     "output_type": "stream",
     "text": [
      "        날짜        종가           거래량     연   월    종류    원달러환율\n",
      "0  2022-12 16,868.90  5,640,000.00  2022  12  비트코인 1,302.02\n",
      "1  2022-11 17,163.90 10,300,000.00  2022  11  비트코인 1,364.10\n",
      "2  2022-10 20,496.30  8,290,000.00  2022  10  비트코인 1,426.66\n",
      "3   2022-9 19,423.00 10,910,000.00  2022  09  비트코인 1,391.59\n",
      "4   2022-8 20,043.90  6,550,000.00  2022  08  비트코인 1,318.44\n",
      "         날짜        종가          거래량     연   월    종류    원달러환율\n",
      "22   2021-2 45,164.00 4,010,000.00  2021  02  비트코인 1,111.72\n",
      "23   2021-1 33,108.10 5,500,000.00  2021  01  비트코인 1,097.49\n",
      "24  2020-12 28,949.40 3,850,000.00  2020  12  비트코인 1,095.13\n",
      "25  2020-11 19,698.10 4,050,000.00  2020  11  비트코인 1,116.76\n",
      "26  2020-10 13,797.30 2,410,000.00  2020  10  비트코인 1,144.68\n"
     ]
    }
   ],
   "source": [
    "# bit_krw df 새로 생성\n",
    "bit_krw = bit_copy.copy()\n",
    "# 원달러환율 컬럼 추가, ex_rate의 연월 일치하는 환율을 찾아서 대입\n",
    "bit_krw['원달러환율'] = 0\n",
    "\n",
    "# 계산을 위한 초기 변수 설정\n",
    "years = ['2020','2021','2022']\n",
    "months = ['01','02','03','04','05','06','07','08','09','10','11','12']\n",
    "krw_rate = 0\n",
    "\n",
    "for year in years:\n",
    "    for month in months:\n",
    "        krw_rate = ex_rate.loc[(ex_rate['연'] ==year) & (ex_rate['월'] ==month),['환율']]\n",
    "        krw_rate = krw_rate.squeeze() #데이터프레임을 시리즈로 변환하여 계산할수 있게 함.\n",
    "        bit_krw.loc[(bit_krw['연'] ==year) & (bit_krw['월'] ==month),['원달러환율']] = krw_rate\n",
    "print(bit_krw.head())\n",
    "print(bit_krw.tail())"
   ]
  },
  {
   "cell_type": "code",
   "execution_count": 24,
   "metadata": {},
   "outputs": [
    {
     "name": "stdout",
     "output_type": "stream",
     "text": [
      "        날짜       종가           거래량     연   월    종류    원달러환율\n",
      "0  2022-12 1,223.71 10,110,000.00  2022  12  이더리움 1,302.02\n",
      "1  2022-11 1,294.41 25,720,000.00  2022  11  이더리움 1,364.10\n",
      "2  2022-10 1,572.89 18,770,000.00  2022  10  이더리움 1,426.66\n",
      "3   2022-9 1,328.73 26,340,000.00  2022  09  이더리움 1,391.59\n",
      "4   2022-8 1,555.12 30,210,000.00  2022  08  이더리움 1,318.44\n",
      "         날짜       종가            거래량     연   월    종류    원달러환율\n",
      "22   2021-2 1,418.76  53,760,000.00  2021  02  이더리움 1,111.72\n",
      "23   2021-1 1,312.73  79,040,000.00  2021  01  이더리움 1,097.49\n",
      "24  2020-12   735.94 300,290,000.00  2020  12  이더리움 1,095.13\n",
      "25  2020-11   615.92 437,160,000.00  2020  11  이더리움 1,116.76\n",
      "26  2020-10   386.42 209,520,000.00  2020  10  이더리움 1,144.68\n"
     ]
    }
   ],
   "source": [
    "# eth_krw df 새로 생성\n",
    "eth_krw = eth_copy.copy()\n",
    "# 원달러환율 컬럼 추가, ex_rate의 연월 일치하는 환율을 찾아서 대입\n",
    "eth_krw['원달러환율'] = 0\n",
    "\n",
    "# 계산을 위한 초기 변수 설정\n",
    "years = ['2020','2021','2022']\n",
    "months = ['01','02','03','04','05','06','07','08','09','10','11','12']\n",
    "krw_rate = 0\n",
    "\n",
    "for year in years:\n",
    "    for month in months:\n",
    "        krw_rate = ex_rate.loc[(ex_rate['연'] ==year) & (ex_rate['월'] ==month),['환율']]\n",
    "        krw_rate = krw_rate.squeeze() #데이터프레임을 시리즈로 변환하여 계산할수 있게 함.\n",
    "        eth_krw.loc[(eth_krw['연'] ==year) & (eth_krw['월'] ==month),['원달러환율']] = krw_rate\n",
    "print(eth_krw.head())\n",
    "print(eth_krw.tail())"
   ]
  },
  {
   "cell_type": "code",
   "execution_count": 25,
   "metadata": {},
   "outputs": [
    {
     "name": "stdout",
     "output_type": "stream",
     "text": [
      "        날짜   종가            거래량     연   월   종류    원달러환율\n",
      "0  2022-12 0.37 559,650,000.00  2022  12  위믹스 1,302.02\n",
      "1  2022-11 0.42  55,250,000.00  2022  11  위믹스 1,364.10\n",
      "2  2022-10 1.24  39,490,000.00  2022  10  위믹스 1,426.66\n",
      "3   2022-9 1.79  13,000,000.00  2022  09  위믹스 1,391.59\n",
      "4   2022-8 2.10  18,200,000.00  2022  08  위믹스 1,318.44\n",
      "        날짜   종가           거래량     연   월   종류    원달러환율\n",
      "2  2022-10 1.24 39,490,000.00  2022  10  위믹스 1,426.66\n",
      "3   2022-9 1.79 13,000,000.00  2022  09  위믹스 1,391.59\n",
      "4   2022-8 2.10 18,200,000.00  2022  08  위믹스 1,318.44\n",
      "5   2022-7 2.44  6,980,000.00  2022  07  위믹스 1,307.40\n",
      "6   2022-6 2.85  3,970,000.00  2022  06  위믹스 1,277.35\n"
     ]
    }
   ],
   "source": [
    "# wemix_krw df 새로 생성\n",
    "wemix_krw = wemix_copy.copy()\n",
    "# 원달러환율 컬럼 추가, ex_rate의 연월 일치하는 환율을 찾아서 대입\n",
    "wemix_krw['원달러환율'] = 0\n",
    "\n",
    "# 계산을 위한 초기 변수 설정\n",
    "years = ['2020','2021','2022']\n",
    "months = ['01','02','03','04','05','06','07','08','09','10','11','12']\n",
    "krw_rate = 0\n",
    "\n",
    "for year in years:\n",
    "    for month in months:\n",
    "        krw_rate = ex_rate.loc[(ex_rate['연'] ==year) & (ex_rate['월'] ==month),['환율']]\n",
    "        krw_rate = krw_rate.squeeze() #데이터프레임을 시리즈로 변환하여 계산할수 있게 함.\n",
    "        wemix_krw.loc[(wemix_krw['연'] ==year) & (wemix_krw['월'] ==month),['원달러환율']] = krw_rate\n",
    "print(wemix_krw.head())\n",
    "print(wemix_krw.tail())"
   ]
  },
  {
   "cell_type": "code",
   "execution_count": 26,
   "metadata": {},
   "outputs": [
    {
     "name": "stdout",
     "output_type": "stream",
     "text": [
      "        날짜   종가           거래량     연   월  종류    원달러환율\n",
      "0  2022-12 1.31  9,100,000.00  2022  12  루나 1,302.02\n",
      "1  2022-11 1.62 10,310,000.00  2022  11  루나 1,364.10\n",
      "2  2022-10 2.44 18,680,000.00  2022  10  루나 1,426.66\n",
      "3   2022-9 2.48 49,460,000.00  2022  09  루나 1,391.59\n",
      "4   2022-8 1.79 10,830,000.00  2022  08  루나 1,318.44\n",
      "        날짜    종가 거래량     연   월  종류    원달러환율\n",
      "17  2021-7 10.72   0  2021  07  루나 1,143.98\n",
      "18  2021-6  6.56   0  2021  06  루나 1,121.30\n",
      "19  2021-5  6.55   0  2021  05  루나 1,123.28\n",
      "20  2021-4 16.69   0  2021  04  루나 1,119.40\n",
      "21  2021-3 18.68   0  2021  03  루나 1,131.02\n"
     ]
    }
   ],
   "source": [
    "# luna_krw df 새로 생성\n",
    "luna_krw = luna_copy.copy()\n",
    "# 원달러환율 컬럼 추가, ex_rate의 연월 일치하는 환율을 찾아서 대입\n",
    "luna_krw['원달러환율'] = 0\n",
    "\n",
    "# 계산을 위한 초기 변수 설정\n",
    "years = ['2020','2021','2022']\n",
    "months = ['01','02','03','04','05','06','07','08','09','10','11','12']\n",
    "krw_rate = 0\n",
    "\n",
    "for year in years:\n",
    "    for month in months:\n",
    "        krw_rate = ex_rate.loc[(ex_rate['연'] ==year) & (ex_rate['월'] ==month),['환율']]\n",
    "        krw_rate = krw_rate.squeeze() #데이터프레임을 시리즈로 변환하여 계산할수 있게 함.\n",
    "        luna_krw.loc[(luna_krw['연'] ==year) & (luna_krw['월'] ==month),['원달러환율']] = krw_rate\n",
    "print(luna_krw.head())\n",
    "print(luna_krw.tail())"
   ]
  },
  {
   "cell_type": "code",
   "execution_count": 27,
   "metadata": {},
   "outputs": [],
   "source": [
    "# 종가(KRW) 컬럼 추가\n",
    "bit_krw['종가(KRW)'] = bit_krw['종가'] * bit_krw['원달러환율']\n",
    "eth_krw['종가(KRW)'] = eth_krw['종가'] * eth_krw['원달러환율']\n",
    "wemix_krw['종가(KRW)'] = wemix_krw['종가'] * wemix_krw['원달러환율']\n",
    "luna_krw['종가(KRW)'] = luna_krw['종가'] * luna_krw['원달러환율']"
   ]
  },
  {
   "cell_type": "code",
   "execution_count": 28,
   "metadata": {},
   "outputs": [],
   "source": [
    "# 컬럼명 변경 및 컬럼 순서 변경\n",
    "bit_krw.rename(columns={'종가':'종가(USD)'}, inplace=True)\n",
    "bit_krw = bit_krw[['종류','날짜','연','월','종가(USD)','종가(KRW)','원달러환율', '거래량']]\n",
    "\n",
    "# 컬럼명 변경 및 컬럼 순서 변경\n",
    "eth_krw.rename(columns={'종가':'종가(USD)'}, inplace=True)\n",
    "eth_krw = eth_krw[['종류','날짜','연','월','종가(USD)','종가(KRW)','원달러환율', '거래량']]\n",
    "\n",
    "# 컬럼명 변경 및 컬럼 순서 변경\n",
    "wemix_krw.rename(columns={'종가':'종가(USD)'}, inplace=True)\n",
    "wemix_krw = wemix_krw[['종류','날짜','연','월','종가(USD)','종가(KRW)','원달러환율', '거래량']]\n",
    "\n",
    "# 컬럼명 변경 및 컬럼 순서 변경\n",
    "luna_krw.rename(columns={'종가':'종가(USD)'}, inplace=True)\n",
    "luna_krw = luna_krw[['종류','날짜','연','월','종가(USD)','종가(KRW)','원달러환율', '거래량']]"
   ]
  },
  {
   "cell_type": "code",
   "execution_count": 29,
   "metadata": {},
   "outputs": [
    {
     "data": {
      "text/html": [
       "<div>\n",
       "<style scoped>\n",
       "    .dataframe tbody tr th:only-of-type {\n",
       "        vertical-align: middle;\n",
       "    }\n",
       "\n",
       "    .dataframe tbody tr th {\n",
       "        vertical-align: top;\n",
       "    }\n",
       "\n",
       "    .dataframe thead th {\n",
       "        text-align: right;\n",
       "    }\n",
       "</style>\n",
       "<table border=\"1\" class=\"dataframe\">\n",
       "  <thead>\n",
       "    <tr style=\"text-align: right;\">\n",
       "      <th></th>\n",
       "      <th>종류</th>\n",
       "      <th>날짜</th>\n",
       "      <th>연</th>\n",
       "      <th>월</th>\n",
       "      <th>종가(USD)</th>\n",
       "      <th>종가(KRW)</th>\n",
       "      <th>원달러환율</th>\n",
       "      <th>거래량</th>\n",
       "    </tr>\n",
       "  </thead>\n",
       "  <tbody>\n",
       "    <tr>\n",
       "      <th>0</th>\n",
       "      <td>비트코인</td>\n",
       "      <td>2022-12</td>\n",
       "      <td>2022</td>\n",
       "      <td>12</td>\n",
       "      <td>16,868.90</td>\n",
       "      <td>21,963,645.18</td>\n",
       "      <td>1,302.02</td>\n",
       "      <td>5,640,000.00</td>\n",
       "    </tr>\n",
       "    <tr>\n",
       "      <th>1</th>\n",
       "      <td>비트코인</td>\n",
       "      <td>2022-11</td>\n",
       "      <td>2022</td>\n",
       "      <td>11</td>\n",
       "      <td>17,163.90</td>\n",
       "      <td>23,413,275.99</td>\n",
       "      <td>1,364.10</td>\n",
       "      <td>10,300,000.00</td>\n",
       "    </tr>\n",
       "    <tr>\n",
       "      <th>2</th>\n",
       "      <td>비트코인</td>\n",
       "      <td>2022-10</td>\n",
       "      <td>2022</td>\n",
       "      <td>10</td>\n",
       "      <td>20,496.30</td>\n",
       "      <td>29,241,251.36</td>\n",
       "      <td>1,426.66</td>\n",
       "      <td>8,290,000.00</td>\n",
       "    </tr>\n",
       "    <tr>\n",
       "      <th>3</th>\n",
       "      <td>비트코인</td>\n",
       "      <td>2022-9</td>\n",
       "      <td>2022</td>\n",
       "      <td>09</td>\n",
       "      <td>19,423.00</td>\n",
       "      <td>27,028,852.57</td>\n",
       "      <td>1,391.59</td>\n",
       "      <td>10,910,000.00</td>\n",
       "    </tr>\n",
       "    <tr>\n",
       "      <th>4</th>\n",
       "      <td>비트코인</td>\n",
       "      <td>2022-8</td>\n",
       "      <td>2022</td>\n",
       "      <td>08</td>\n",
       "      <td>20,043.90</td>\n",
       "      <td>26,426,679.52</td>\n",
       "      <td>1,318.44</td>\n",
       "      <td>6,550,000.00</td>\n",
       "    </tr>\n",
       "  </tbody>\n",
       "</table>\n",
       "</div>"
      ],
      "text/plain": [
       "     종류       날짜     연   월   종가(USD)       종가(KRW)    원달러환율           거래량\n",
       "0  비트코인  2022-12  2022  12 16,868.90 21,963,645.18 1,302.02  5,640,000.00\n",
       "1  비트코인  2022-11  2022  11 17,163.90 23,413,275.99 1,364.10 10,300,000.00\n",
       "2  비트코인  2022-10  2022  10 20,496.30 29,241,251.36 1,426.66  8,290,000.00\n",
       "3  비트코인   2022-9  2022  09 19,423.00 27,028,852.57 1,391.59 10,910,000.00\n",
       "4  비트코인   2022-8  2022  08 20,043.90 26,426,679.52 1,318.44  6,550,000.00"
      ]
     },
     "execution_count": 29,
     "metadata": {},
     "output_type": "execute_result"
    }
   ],
   "source": [
    "# bit_krw 데이터 전처리. 끝.\n",
    "bit_krw.head()"
   ]
  },
  {
   "cell_type": "code",
   "execution_count": 30,
   "metadata": {},
   "outputs": [
    {
     "data": {
      "text/html": [
       "<div>\n",
       "<style scoped>\n",
       "    .dataframe tbody tr th:only-of-type {\n",
       "        vertical-align: middle;\n",
       "    }\n",
       "\n",
       "    .dataframe tbody tr th {\n",
       "        vertical-align: top;\n",
       "    }\n",
       "\n",
       "    .dataframe thead th {\n",
       "        text-align: right;\n",
       "    }\n",
       "</style>\n",
       "<table border=\"1\" class=\"dataframe\">\n",
       "  <thead>\n",
       "    <tr style=\"text-align: right;\">\n",
       "      <th></th>\n",
       "      <th>종류</th>\n",
       "      <th>날짜</th>\n",
       "      <th>연</th>\n",
       "      <th>월</th>\n",
       "      <th>종가(USD)</th>\n",
       "      <th>종가(KRW)</th>\n",
       "      <th>원달러환율</th>\n",
       "      <th>거래량</th>\n",
       "    </tr>\n",
       "  </thead>\n",
       "  <tbody>\n",
       "    <tr>\n",
       "      <th>0</th>\n",
       "      <td>이더리움</td>\n",
       "      <td>2022-12</td>\n",
       "      <td>2022</td>\n",
       "      <td>12</td>\n",
       "      <td>1,223.71</td>\n",
       "      <td>1,593,294.89</td>\n",
       "      <td>1,302.02</td>\n",
       "      <td>10,110,000.00</td>\n",
       "    </tr>\n",
       "    <tr>\n",
       "      <th>1</th>\n",
       "      <td>이더리움</td>\n",
       "      <td>2022-11</td>\n",
       "      <td>2022</td>\n",
       "      <td>11</td>\n",
       "      <td>1,294.41</td>\n",
       "      <td>1,765,704.68</td>\n",
       "      <td>1,364.10</td>\n",
       "      <td>25,720,000.00</td>\n",
       "    </tr>\n",
       "    <tr>\n",
       "      <th>2</th>\n",
       "      <td>이더리움</td>\n",
       "      <td>2022-10</td>\n",
       "      <td>2022</td>\n",
       "      <td>10</td>\n",
       "      <td>1,572.89</td>\n",
       "      <td>2,243,979.25</td>\n",
       "      <td>1,426.66</td>\n",
       "      <td>18,770,000.00</td>\n",
       "    </tr>\n",
       "    <tr>\n",
       "      <th>3</th>\n",
       "      <td>이더리움</td>\n",
       "      <td>2022-9</td>\n",
       "      <td>2022</td>\n",
       "      <td>09</td>\n",
       "      <td>1,328.73</td>\n",
       "      <td>1,849,047.38</td>\n",
       "      <td>1,391.59</td>\n",
       "      <td>26,340,000.00</td>\n",
       "    </tr>\n",
       "    <tr>\n",
       "      <th>4</th>\n",
       "      <td>이더리움</td>\n",
       "      <td>2022-8</td>\n",
       "      <td>2022</td>\n",
       "      <td>08</td>\n",
       "      <td>1,555.12</td>\n",
       "      <td>2,050,332.41</td>\n",
       "      <td>1,318.44</td>\n",
       "      <td>30,210,000.00</td>\n",
       "    </tr>\n",
       "  </tbody>\n",
       "</table>\n",
       "</div>"
      ],
      "text/plain": [
       "     종류       날짜     연   월  종가(USD)      종가(KRW)    원달러환율           거래량\n",
       "0  이더리움  2022-12  2022  12 1,223.71 1,593,294.89 1,302.02 10,110,000.00\n",
       "1  이더리움  2022-11  2022  11 1,294.41 1,765,704.68 1,364.10 25,720,000.00\n",
       "2  이더리움  2022-10  2022  10 1,572.89 2,243,979.25 1,426.66 18,770,000.00\n",
       "3  이더리움   2022-9  2022  09 1,328.73 1,849,047.38 1,391.59 26,340,000.00\n",
       "4  이더리움   2022-8  2022  08 1,555.12 2,050,332.41 1,318.44 30,210,000.00"
      ]
     },
     "execution_count": 30,
     "metadata": {},
     "output_type": "execute_result"
    }
   ],
   "source": [
    "# eth_krw 데이터 전처리. 끝.\n",
    "eth_krw.head()"
   ]
  },
  {
   "cell_type": "code",
   "execution_count": 31,
   "metadata": {},
   "outputs": [
    {
     "data": {
      "text/html": [
       "<div>\n",
       "<style scoped>\n",
       "    .dataframe tbody tr th:only-of-type {\n",
       "        vertical-align: middle;\n",
       "    }\n",
       "\n",
       "    .dataframe tbody tr th {\n",
       "        vertical-align: top;\n",
       "    }\n",
       "\n",
       "    .dataframe thead th {\n",
       "        text-align: right;\n",
       "    }\n",
       "</style>\n",
       "<table border=\"1\" class=\"dataframe\">\n",
       "  <thead>\n",
       "    <tr style=\"text-align: right;\">\n",
       "      <th></th>\n",
       "      <th>종류</th>\n",
       "      <th>날짜</th>\n",
       "      <th>연</th>\n",
       "      <th>월</th>\n",
       "      <th>종가(USD)</th>\n",
       "      <th>종가(KRW)</th>\n",
       "      <th>원달러환율</th>\n",
       "      <th>거래량</th>\n",
       "    </tr>\n",
       "  </thead>\n",
       "  <tbody>\n",
       "    <tr>\n",
       "      <th>0</th>\n",
       "      <td>위믹스</td>\n",
       "      <td>2022-12</td>\n",
       "      <td>2022</td>\n",
       "      <td>12</td>\n",
       "      <td>0.37</td>\n",
       "      <td>486.83</td>\n",
       "      <td>1,302.02</td>\n",
       "      <td>559,650,000.00</td>\n",
       "    </tr>\n",
       "    <tr>\n",
       "      <th>1</th>\n",
       "      <td>위믹스</td>\n",
       "      <td>2022-11</td>\n",
       "      <td>2022</td>\n",
       "      <td>11</td>\n",
       "      <td>0.42</td>\n",
       "      <td>572.51</td>\n",
       "      <td>1,364.10</td>\n",
       "      <td>55,250,000.00</td>\n",
       "    </tr>\n",
       "    <tr>\n",
       "      <th>2</th>\n",
       "      <td>위믹스</td>\n",
       "      <td>2022-10</td>\n",
       "      <td>2022</td>\n",
       "      <td>10</td>\n",
       "      <td>1.24</td>\n",
       "      <td>1,774.48</td>\n",
       "      <td>1,426.66</td>\n",
       "      <td>39,490,000.00</td>\n",
       "    </tr>\n",
       "    <tr>\n",
       "      <th>3</th>\n",
       "      <td>위믹스</td>\n",
       "      <td>2022-9</td>\n",
       "      <td>2022</td>\n",
       "      <td>09</td>\n",
       "      <td>1.79</td>\n",
       "      <td>2,484.68</td>\n",
       "      <td>1,391.59</td>\n",
       "      <td>13,000,000.00</td>\n",
       "    </tr>\n",
       "    <tr>\n",
       "      <th>4</th>\n",
       "      <td>위믹스</td>\n",
       "      <td>2022-8</td>\n",
       "      <td>2022</td>\n",
       "      <td>08</td>\n",
       "      <td>2.10</td>\n",
       "      <td>2,762.51</td>\n",
       "      <td>1,318.44</td>\n",
       "      <td>18,200,000.00</td>\n",
       "    </tr>\n",
       "  </tbody>\n",
       "</table>\n",
       "</div>"
      ],
      "text/plain": [
       "    종류       날짜     연   월  종가(USD)  종가(KRW)    원달러환율            거래량\n",
       "0  위믹스  2022-12  2022  12     0.37   486.83 1,302.02 559,650,000.00\n",
       "1  위믹스  2022-11  2022  11     0.42   572.51 1,364.10  55,250,000.00\n",
       "2  위믹스  2022-10  2022  10     1.24 1,774.48 1,426.66  39,490,000.00\n",
       "3  위믹스   2022-9  2022  09     1.79 2,484.68 1,391.59  13,000,000.00\n",
       "4  위믹스   2022-8  2022  08     2.10 2,762.51 1,318.44  18,200,000.00"
      ]
     },
     "execution_count": 31,
     "metadata": {},
     "output_type": "execute_result"
    }
   ],
   "source": [
    "# wemix_krw 데이터 전처리. 끝.\n",
    "wemix_krw.head()"
   ]
  },
  {
   "cell_type": "code",
   "execution_count": 32,
   "metadata": {},
   "outputs": [
    {
     "data": {
      "text/html": [
       "<div>\n",
       "<style scoped>\n",
       "    .dataframe tbody tr th:only-of-type {\n",
       "        vertical-align: middle;\n",
       "    }\n",
       "\n",
       "    .dataframe tbody tr th {\n",
       "        vertical-align: top;\n",
       "    }\n",
       "\n",
       "    .dataframe thead th {\n",
       "        text-align: right;\n",
       "    }\n",
       "</style>\n",
       "<table border=\"1\" class=\"dataframe\">\n",
       "  <thead>\n",
       "    <tr style=\"text-align: right;\">\n",
       "      <th></th>\n",
       "      <th>종류</th>\n",
       "      <th>날짜</th>\n",
       "      <th>연</th>\n",
       "      <th>월</th>\n",
       "      <th>종가(USD)</th>\n",
       "      <th>종가(KRW)</th>\n",
       "      <th>원달러환율</th>\n",
       "      <th>거래량</th>\n",
       "    </tr>\n",
       "  </thead>\n",
       "  <tbody>\n",
       "    <tr>\n",
       "      <th>0</th>\n",
       "      <td>루나</td>\n",
       "      <td>2022-12</td>\n",
       "      <td>2022</td>\n",
       "      <td>12</td>\n",
       "      <td>1.31</td>\n",
       "      <td>1,710.07</td>\n",
       "      <td>1,302.02</td>\n",
       "      <td>9,100,000.00</td>\n",
       "    </tr>\n",
       "    <tr>\n",
       "      <th>1</th>\n",
       "      <td>루나</td>\n",
       "      <td>2022-11</td>\n",
       "      <td>2022</td>\n",
       "      <td>11</td>\n",
       "      <td>1.62</td>\n",
       "      <td>2,205.48</td>\n",
       "      <td>1,364.10</td>\n",
       "      <td>10,310,000.00</td>\n",
       "    </tr>\n",
       "    <tr>\n",
       "      <th>2</th>\n",
       "      <td>루나</td>\n",
       "      <td>2022-10</td>\n",
       "      <td>2022</td>\n",
       "      <td>10</td>\n",
       "      <td>2.44</td>\n",
       "      <td>3,482.48</td>\n",
       "      <td>1,426.66</td>\n",
       "      <td>18,680,000.00</td>\n",
       "    </tr>\n",
       "    <tr>\n",
       "      <th>3</th>\n",
       "      <td>루나</td>\n",
       "      <td>2022-9</td>\n",
       "      <td>2022</td>\n",
       "      <td>09</td>\n",
       "      <td>2.48</td>\n",
       "      <td>3,453.79</td>\n",
       "      <td>1,391.59</td>\n",
       "      <td>49,460,000.00</td>\n",
       "    </tr>\n",
       "    <tr>\n",
       "      <th>4</th>\n",
       "      <td>루나</td>\n",
       "      <td>2022-8</td>\n",
       "      <td>2022</td>\n",
       "      <td>08</td>\n",
       "      <td>1.79</td>\n",
       "      <td>2,353.81</td>\n",
       "      <td>1,318.44</td>\n",
       "      <td>10,830,000.00</td>\n",
       "    </tr>\n",
       "  </tbody>\n",
       "</table>\n",
       "</div>"
      ],
      "text/plain": [
       "   종류       날짜     연   월  종가(USD)  종가(KRW)    원달러환율           거래량\n",
       "0  루나  2022-12  2022  12     1.31 1,710.07 1,302.02  9,100,000.00\n",
       "1  루나  2022-11  2022  11     1.62 2,205.48 1,364.10 10,310,000.00\n",
       "2  루나  2022-10  2022  10     2.44 3,482.48 1,426.66 18,680,000.00\n",
       "3  루나   2022-9  2022  09     2.48 3,453.79 1,391.59 49,460,000.00\n",
       "4  루나   2022-8  2022  08     1.79 2,353.81 1,318.44 10,830,000.00"
      ]
     },
     "execution_count": 32,
     "metadata": {},
     "output_type": "execute_result"
    }
   ],
   "source": [
    "# luna_krw 데이터 전처리. 끝.\n",
    "luna_krw.head()"
   ]
  },
  {
   "cell_type": "code",
   "execution_count": 33,
   "metadata": {},
   "outputs": [],
   "source": [
    "total_df = pd.concat([bit_krw,eth_krw,wemix_krw,luna_krw],ignore_index=True)"
   ]
  },
  {
   "cell_type": "code",
   "execution_count": 34,
   "metadata": {},
   "outputs": [
    {
     "data": {
      "text/html": [
       "<div>\n",
       "<style scoped>\n",
       "    .dataframe tbody tr th:only-of-type {\n",
       "        vertical-align: middle;\n",
       "    }\n",
       "\n",
       "    .dataframe tbody tr th {\n",
       "        vertical-align: top;\n",
       "    }\n",
       "\n",
       "    .dataframe thead th {\n",
       "        text-align: right;\n",
       "    }\n",
       "</style>\n",
       "<table border=\"1\" class=\"dataframe\">\n",
       "  <thead>\n",
       "    <tr style=\"text-align: right;\">\n",
       "      <th></th>\n",
       "      <th>종류</th>\n",
       "      <th>날짜</th>\n",
       "      <th>연</th>\n",
       "      <th>월</th>\n",
       "      <th>종가(USD)</th>\n",
       "      <th>종가(KRW)</th>\n",
       "      <th>원달러환율</th>\n",
       "      <th>거래량</th>\n",
       "    </tr>\n",
       "  </thead>\n",
       "  <tbody>\n",
       "    <tr>\n",
       "      <th>0</th>\n",
       "      <td>비트코인</td>\n",
       "      <td>2022-12</td>\n",
       "      <td>2022</td>\n",
       "      <td>12</td>\n",
       "      <td>16,868.90</td>\n",
       "      <td>21,963,645.18</td>\n",
       "      <td>1,302.02</td>\n",
       "      <td>5,640,000.00</td>\n",
       "    </tr>\n",
       "    <tr>\n",
       "      <th>1</th>\n",
       "      <td>비트코인</td>\n",
       "      <td>2022-11</td>\n",
       "      <td>2022</td>\n",
       "      <td>11</td>\n",
       "      <td>17,163.90</td>\n",
       "      <td>23,413,275.99</td>\n",
       "      <td>1,364.10</td>\n",
       "      <td>10,300,000.00</td>\n",
       "    </tr>\n",
       "    <tr>\n",
       "      <th>2</th>\n",
       "      <td>비트코인</td>\n",
       "      <td>2022-10</td>\n",
       "      <td>2022</td>\n",
       "      <td>10</td>\n",
       "      <td>20,496.30</td>\n",
       "      <td>29,241,251.36</td>\n",
       "      <td>1,426.66</td>\n",
       "      <td>8,290,000.00</td>\n",
       "    </tr>\n",
       "    <tr>\n",
       "      <th>3</th>\n",
       "      <td>비트코인</td>\n",
       "      <td>2022-9</td>\n",
       "      <td>2022</td>\n",
       "      <td>09</td>\n",
       "      <td>19,423.00</td>\n",
       "      <td>27,028,852.57</td>\n",
       "      <td>1,391.59</td>\n",
       "      <td>10,910,000.00</td>\n",
       "    </tr>\n",
       "    <tr>\n",
       "      <th>4</th>\n",
       "      <td>비트코인</td>\n",
       "      <td>2022-8</td>\n",
       "      <td>2022</td>\n",
       "      <td>08</td>\n",
       "      <td>20,043.90</td>\n",
       "      <td>26,426,679.52</td>\n",
       "      <td>1,318.44</td>\n",
       "      <td>6,550,000.00</td>\n",
       "    </tr>\n",
       "    <tr>\n",
       "      <th>...</th>\n",
       "      <td>...</td>\n",
       "      <td>...</td>\n",
       "      <td>...</td>\n",
       "      <td>...</td>\n",
       "      <td>...</td>\n",
       "      <td>...</td>\n",
       "      <td>...</td>\n",
       "      <td>...</td>\n",
       "    </tr>\n",
       "    <tr>\n",
       "      <th>78</th>\n",
       "      <td>루나</td>\n",
       "      <td>2021-7</td>\n",
       "      <td>2021</td>\n",
       "      <td>07</td>\n",
       "      <td>10.72</td>\n",
       "      <td>12,268.38</td>\n",
       "      <td>1,143.98</td>\n",
       "      <td>0</td>\n",
       "    </tr>\n",
       "    <tr>\n",
       "      <th>79</th>\n",
       "      <td>루나</td>\n",
       "      <td>2021-6</td>\n",
       "      <td>2021</td>\n",
       "      <td>06</td>\n",
       "      <td>6.56</td>\n",
       "      <td>7,353.04</td>\n",
       "      <td>1,121.30</td>\n",
       "      <td>0</td>\n",
       "    </tr>\n",
       "    <tr>\n",
       "      <th>80</th>\n",
       "      <td>루나</td>\n",
       "      <td>2021-5</td>\n",
       "      <td>2021</td>\n",
       "      <td>05</td>\n",
       "      <td>6.55</td>\n",
       "      <td>7,359.62</td>\n",
       "      <td>1,123.28</td>\n",
       "      <td>0</td>\n",
       "    </tr>\n",
       "    <tr>\n",
       "      <th>81</th>\n",
       "      <td>루나</td>\n",
       "      <td>2021-4</td>\n",
       "      <td>2021</td>\n",
       "      <td>04</td>\n",
       "      <td>16.69</td>\n",
       "      <td>18,681.11</td>\n",
       "      <td>1,119.40</td>\n",
       "      <td>0</td>\n",
       "    </tr>\n",
       "    <tr>\n",
       "      <th>82</th>\n",
       "      <td>루나</td>\n",
       "      <td>2021-3</td>\n",
       "      <td>2021</td>\n",
       "      <td>03</td>\n",
       "      <td>18.68</td>\n",
       "      <td>21,131.07</td>\n",
       "      <td>1,131.02</td>\n",
       "      <td>0</td>\n",
       "    </tr>\n",
       "  </tbody>\n",
       "</table>\n",
       "<p>83 rows × 8 columns</p>\n",
       "</div>"
      ],
      "text/plain": [
       "      종류       날짜     연   월   종가(USD)       종가(KRW)    원달러환율           거래량\n",
       "0   비트코인  2022-12  2022  12 16,868.90 21,963,645.18 1,302.02  5,640,000.00\n",
       "1   비트코인  2022-11  2022  11 17,163.90 23,413,275.99 1,364.10 10,300,000.00\n",
       "2   비트코인  2022-10  2022  10 20,496.30 29,241,251.36 1,426.66  8,290,000.00\n",
       "3   비트코인   2022-9  2022  09 19,423.00 27,028,852.57 1,391.59 10,910,000.00\n",
       "4   비트코인   2022-8  2022  08 20,043.90 26,426,679.52 1,318.44  6,550,000.00\n",
       "..   ...      ...   ...  ..       ...           ...      ...           ...\n",
       "78    루나   2021-7  2021  07     10.72     12,268.38 1,143.98             0\n",
       "79    루나   2021-6  2021  06      6.56      7,353.04 1,121.30             0\n",
       "80    루나   2021-5  2021  05      6.55      7,359.62 1,123.28             0\n",
       "81    루나   2021-4  2021  04     16.69     18,681.11 1,119.40             0\n",
       "82    루나   2021-3  2021  03     18.68     21,131.07 1,131.02             0\n",
       "\n",
       "[83 rows x 8 columns]"
      ]
     },
     "execution_count": 34,
     "metadata": {},
     "output_type": "execute_result"
    }
   ],
   "source": [
    "total_df"
   ]
  },
  {
   "cell_type": "code",
   "execution_count": 35,
   "metadata": {},
   "outputs": [],
   "source": [
    "# csv 파일로 저장\n",
    "total_df.to_csv('./data/total_df.csv')"
   ]
  }
 ],
 "metadata": {
  "kernelspec": {
   "display_name": "base",
   "language": "python",
   "name": "python3"
  },
  "language_info": {
   "codemirror_mode": {
    "name": "ipython",
    "version": 3
   },
   "file_extension": ".py",
   "mimetype": "text/x-python",
   "name": "python",
   "nbconvert_exporter": "python",
   "pygments_lexer": "ipython3",
   "version": "3.9.13"
  },
  "orig_nbformat": 4,
  "vscode": {
   "interpreter": {
    "hash": "ad2bdc8ecc057115af97d19610ffacc2b4e99fae6737bb82f5d7fb13d2f2c186"
   }
  }
 },
 "nbformat": 4,
 "nbformat_minor": 2
}
