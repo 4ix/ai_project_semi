{
 "cells": [
  {
   "cell_type": "code",
   "execution_count": null,
   "metadata": {},
   "outputs": [],
   "source": [
    "# 비트코인, 이더리움, FTX Token의 가격 및 거래량의 일별 자료를 통해 비트코인 과의 상관관계를 알아보고자 함.\n",
    "# 3개년 치 (2020-10-26 ~ 2022-12-26) 의 자료를 investing.com 의 과거 데이터 다운로드를 통해 자료 수집.\n",
    "# 데이터 전처리 후 matplotlib를 통해 각종 도표로 데이터 확인."
   ]
  },
  {
   "cell_type": "code",
   "execution_count": 285,
   "metadata": {},
   "outputs": [],
   "source": [
    "import pandas as pd"
   ]
  },
  {
   "cell_type": "code",
   "execution_count": 286,
   "metadata": {},
   "outputs": [],
   "source": [
    "# %load matplot.py\n",
    "# %%\n",
    "import matplotlib.pyplot as plt\n",
    "plt.rc('font', family = 'gulim')\n",
    "plt.rc('axes', unicode_minus=False)\n",
    "\n",
    "\n"
   ]
  },
  {
   "cell_type": "code",
   "execution_count": 287,
   "metadata": {},
   "outputs": [
    {
     "name": "stdout",
     "output_type": "stream",
     "text": [
      "              날짜        종가        오픈        고가        저가      거래량    변동 %\n",
      "0  2022년 12월 26일  16,831.9  16,831.8  16,836.5  16,822.0  133.33K   0.00%\n",
      "1  2022년 12월 25일  16,831.8  16,835.7  16,852.9  16,733.0  132.89K  -0.03%\n",
      "2  2022년 12월 24일  16,837.2  16,778.6  16,855.8  16,777.8  110.12K   0.35%\n",
      "3  2022년 12월 23일  16,779.1  16,820.5  16,910.7  16,768.0  184.12K  -0.25%\n",
      "4  2022년 12월 22일  16,820.6  16,831.8  16,862.2  16,566.1  198.28K  -0.07%\n"
     ]
    }
   ],
   "source": [
    "bit_origin = pd.read_csv('./data/bit.csv')\n",
    "eth_origin = pd.read_csv('./data/eth.csv')\n",
    "wemix_origin = pd.read_csv('./data/wemix.csv')\n",
    "\n",
    "# 각 데이터 프레임을 copy에 할당함\n",
    "bit_copy, eth_copy, ftt_copy = bit_origin.copy(), eth_origin.copy(), wemix_origin.copy()\n",
    "print(bit_copy.head())"
   ]
  },
  {
   "cell_type": "markdown",
   "metadata": {},
   "source": [
    "### bit_copy 데이터 전처리"
   ]
  },
  {
   "cell_type": "code",
   "execution_count": 288,
   "metadata": {},
   "outputs": [
    {
     "name": "stdout",
     "output_type": "stream",
     "text": [
      "<class 'pandas.core.frame.DataFrame'>\n",
      "RangeIndex: 761 entries, 0 to 760\n",
      "Data columns (total 7 columns):\n",
      " #   Column  Non-Null Count  Dtype \n",
      "---  ------  --------------  ----- \n",
      " 0   날짜      761 non-null    object\n",
      " 1   종가      761 non-null    object\n",
      " 2   오픈      761 non-null    object\n",
      " 3   고가      761 non-null    object\n",
      " 4   저가      761 non-null    object\n",
      " 5   거래량     761 non-null    object\n",
      " 6   변동 %    761 non-null    object\n",
      "dtypes: object(7)\n",
      "memory usage: 41.7+ KB\n"
     ]
    },
    {
     "ename": "ValueError",
     "evalue": "could not convert string to float: '16,831.9'",
     "output_type": "error",
     "traceback": [
      "\u001b[1;31m---------------------------------------------------------------------------\u001b[0m",
      "\u001b[1;31mValueError\u001b[0m                                Traceback (most recent call last)",
      "\u001b[1;32m~\\AppData\\Local\\Temp\\ipykernel_26092\\2993975672.py\u001b[0m in \u001b[0;36m<module>\u001b[1;34m\u001b[0m\n\u001b[0;32m      2\u001b[0m \u001b[0mbit_copy\u001b[0m\u001b[1;33m.\u001b[0m\u001b[0minfo\u001b[0m\u001b[1;33m(\u001b[0m\u001b[1;33m)\u001b[0m \u001b[1;31m# 모든 컬럼의 데이터 타입이 object로 되어있음.\u001b[0m\u001b[1;33m\u001b[0m\u001b[1;33m\u001b[0m\u001b[0m\n\u001b[0;32m      3\u001b[0m \u001b[1;31m# 종가, 오픈, 고가, 저가의 컬럼 데이터 타입을 float로 변경하고자 함.\u001b[0m\u001b[1;33m\u001b[0m\u001b[1;33m\u001b[0m\u001b[0m\n\u001b[1;32m----> 4\u001b[1;33m \u001b[0mbit_copy\u001b[0m\u001b[1;33m[\u001b[0m\u001b[1;34m'종가'\u001b[0m\u001b[1;33m]\u001b[0m \u001b[1;33m=\u001b[0m \u001b[0mbit_copy\u001b[0m\u001b[1;33m[\u001b[0m\u001b[1;34m'종가'\u001b[0m\u001b[1;33m]\u001b[0m\u001b[1;33m.\u001b[0m\u001b[0mastype\u001b[0m\u001b[1;33m(\u001b[0m\u001b[1;34m'float'\u001b[0m\u001b[1;33m)\u001b[0m\u001b[1;33m\u001b[0m\u001b[1;33m\u001b[0m\u001b[0m\n\u001b[0m\u001b[0;32m      5\u001b[0m \u001b[1;31m# string 데이터에 comma(,)가 있기 때문에 바로 전환이 안됨.\u001b[0m\u001b[1;33m\u001b[0m\u001b[1;33m\u001b[0m\u001b[0m\n",
      "\u001b[1;32mc:\\ProgramData\\Anaconda3\\lib\\site-packages\\pandas\\core\\generic.py\u001b[0m in \u001b[0;36mastype\u001b[1;34m(self, dtype, copy, errors)\u001b[0m\n\u001b[0;32m   5910\u001b[0m         \u001b[1;32melse\u001b[0m\u001b[1;33m:\u001b[0m\u001b[1;33m\u001b[0m\u001b[1;33m\u001b[0m\u001b[0m\n\u001b[0;32m   5911\u001b[0m             \u001b[1;31m# else, only a single dtype is given\u001b[0m\u001b[1;33m\u001b[0m\u001b[1;33m\u001b[0m\u001b[0m\n\u001b[1;32m-> 5912\u001b[1;33m             \u001b[0mnew_data\u001b[0m \u001b[1;33m=\u001b[0m \u001b[0mself\u001b[0m\u001b[1;33m.\u001b[0m\u001b[0m_mgr\u001b[0m\u001b[1;33m.\u001b[0m\u001b[0mastype\u001b[0m\u001b[1;33m(\u001b[0m\u001b[0mdtype\u001b[0m\u001b[1;33m=\u001b[0m\u001b[0mdtype\u001b[0m\u001b[1;33m,\u001b[0m \u001b[0mcopy\u001b[0m\u001b[1;33m=\u001b[0m\u001b[0mcopy\u001b[0m\u001b[1;33m,\u001b[0m \u001b[0merrors\u001b[0m\u001b[1;33m=\u001b[0m\u001b[0merrors\u001b[0m\u001b[1;33m)\u001b[0m\u001b[1;33m\u001b[0m\u001b[1;33m\u001b[0m\u001b[0m\n\u001b[0m\u001b[0;32m   5913\u001b[0m             \u001b[1;32mreturn\u001b[0m \u001b[0mself\u001b[0m\u001b[1;33m.\u001b[0m\u001b[0m_constructor\u001b[0m\u001b[1;33m(\u001b[0m\u001b[0mnew_data\u001b[0m\u001b[1;33m)\u001b[0m\u001b[1;33m.\u001b[0m\u001b[0m__finalize__\u001b[0m\u001b[1;33m(\u001b[0m\u001b[0mself\u001b[0m\u001b[1;33m,\u001b[0m \u001b[0mmethod\u001b[0m\u001b[1;33m=\u001b[0m\u001b[1;34m\"astype\"\u001b[0m\u001b[1;33m)\u001b[0m\u001b[1;33m\u001b[0m\u001b[1;33m\u001b[0m\u001b[0m\n\u001b[0;32m   5914\u001b[0m \u001b[1;33m\u001b[0m\u001b[0m\n",
      "\u001b[1;32mc:\\ProgramData\\Anaconda3\\lib\\site-packages\\pandas\\core\\internals\\managers.py\u001b[0m in \u001b[0;36mastype\u001b[1;34m(self, dtype, copy, errors)\u001b[0m\n\u001b[0;32m    417\u001b[0m \u001b[1;33m\u001b[0m\u001b[0m\n\u001b[0;32m    418\u001b[0m     \u001b[1;32mdef\u001b[0m \u001b[0mastype\u001b[0m\u001b[1;33m(\u001b[0m\u001b[0mself\u001b[0m\u001b[1;33m:\u001b[0m \u001b[0mT\u001b[0m\u001b[1;33m,\u001b[0m \u001b[0mdtype\u001b[0m\u001b[1;33m,\u001b[0m \u001b[0mcopy\u001b[0m\u001b[1;33m:\u001b[0m \u001b[0mbool\u001b[0m \u001b[1;33m=\u001b[0m \u001b[1;32mFalse\u001b[0m\u001b[1;33m,\u001b[0m \u001b[0merrors\u001b[0m\u001b[1;33m:\u001b[0m \u001b[0mstr\u001b[0m \u001b[1;33m=\u001b[0m \u001b[1;34m\"raise\"\u001b[0m\u001b[1;33m)\u001b[0m \u001b[1;33m->\u001b[0m \u001b[0mT\u001b[0m\u001b[1;33m:\u001b[0m\u001b[1;33m\u001b[0m\u001b[1;33m\u001b[0m\u001b[0m\n\u001b[1;32m--> 419\u001b[1;33m         \u001b[1;32mreturn\u001b[0m \u001b[0mself\u001b[0m\u001b[1;33m.\u001b[0m\u001b[0mapply\u001b[0m\u001b[1;33m(\u001b[0m\u001b[1;34m\"astype\"\u001b[0m\u001b[1;33m,\u001b[0m \u001b[0mdtype\u001b[0m\u001b[1;33m=\u001b[0m\u001b[0mdtype\u001b[0m\u001b[1;33m,\u001b[0m \u001b[0mcopy\u001b[0m\u001b[1;33m=\u001b[0m\u001b[0mcopy\u001b[0m\u001b[1;33m,\u001b[0m \u001b[0merrors\u001b[0m\u001b[1;33m=\u001b[0m\u001b[0merrors\u001b[0m\u001b[1;33m)\u001b[0m\u001b[1;33m\u001b[0m\u001b[1;33m\u001b[0m\u001b[0m\n\u001b[0m\u001b[0;32m    420\u001b[0m \u001b[1;33m\u001b[0m\u001b[0m\n\u001b[0;32m    421\u001b[0m     def convert(\n",
      "\u001b[1;32mc:\\ProgramData\\Anaconda3\\lib\\site-packages\\pandas\\core\\internals\\managers.py\u001b[0m in \u001b[0;36mapply\u001b[1;34m(self, f, align_keys, ignore_failures, **kwargs)\u001b[0m\n\u001b[0;32m    302\u001b[0m                     \u001b[0mapplied\u001b[0m \u001b[1;33m=\u001b[0m \u001b[0mb\u001b[0m\u001b[1;33m.\u001b[0m\u001b[0mapply\u001b[0m\u001b[1;33m(\u001b[0m\u001b[0mf\u001b[0m\u001b[1;33m,\u001b[0m \u001b[1;33m**\u001b[0m\u001b[0mkwargs\u001b[0m\u001b[1;33m)\u001b[0m\u001b[1;33m\u001b[0m\u001b[1;33m\u001b[0m\u001b[0m\n\u001b[0;32m    303\u001b[0m                 \u001b[1;32melse\u001b[0m\u001b[1;33m:\u001b[0m\u001b[1;33m\u001b[0m\u001b[1;33m\u001b[0m\u001b[0m\n\u001b[1;32m--> 304\u001b[1;33m                     \u001b[0mapplied\u001b[0m \u001b[1;33m=\u001b[0m \u001b[0mgetattr\u001b[0m\u001b[1;33m(\u001b[0m\u001b[0mb\u001b[0m\u001b[1;33m,\u001b[0m \u001b[0mf\u001b[0m\u001b[1;33m)\u001b[0m\u001b[1;33m(\u001b[0m\u001b[1;33m**\u001b[0m\u001b[0mkwargs\u001b[0m\u001b[1;33m)\u001b[0m\u001b[1;33m\u001b[0m\u001b[1;33m\u001b[0m\u001b[0m\n\u001b[0m\u001b[0;32m    305\u001b[0m             \u001b[1;32mexcept\u001b[0m \u001b[1;33m(\u001b[0m\u001b[0mTypeError\u001b[0m\u001b[1;33m,\u001b[0m \u001b[0mNotImplementedError\u001b[0m\u001b[1;33m)\u001b[0m\u001b[1;33m:\u001b[0m\u001b[1;33m\u001b[0m\u001b[1;33m\u001b[0m\u001b[0m\n\u001b[0;32m    306\u001b[0m                 \u001b[1;32mif\u001b[0m \u001b[1;32mnot\u001b[0m \u001b[0mignore_failures\u001b[0m\u001b[1;33m:\u001b[0m\u001b[1;33m\u001b[0m\u001b[1;33m\u001b[0m\u001b[0m\n",
      "\u001b[1;32mc:\\ProgramData\\Anaconda3\\lib\\site-packages\\pandas\\core\\internals\\blocks.py\u001b[0m in \u001b[0;36mastype\u001b[1;34m(self, dtype, copy, errors)\u001b[0m\n\u001b[0;32m    578\u001b[0m         \u001b[0mvalues\u001b[0m \u001b[1;33m=\u001b[0m \u001b[0mself\u001b[0m\u001b[1;33m.\u001b[0m\u001b[0mvalues\u001b[0m\u001b[1;33m\u001b[0m\u001b[1;33m\u001b[0m\u001b[0m\n\u001b[0;32m    579\u001b[0m \u001b[1;33m\u001b[0m\u001b[0m\n\u001b[1;32m--> 580\u001b[1;33m         \u001b[0mnew_values\u001b[0m \u001b[1;33m=\u001b[0m \u001b[0mastype_array_safe\u001b[0m\u001b[1;33m(\u001b[0m\u001b[0mvalues\u001b[0m\u001b[1;33m,\u001b[0m \u001b[0mdtype\u001b[0m\u001b[1;33m,\u001b[0m \u001b[0mcopy\u001b[0m\u001b[1;33m=\u001b[0m\u001b[0mcopy\u001b[0m\u001b[1;33m,\u001b[0m \u001b[0merrors\u001b[0m\u001b[1;33m=\u001b[0m\u001b[0merrors\u001b[0m\u001b[1;33m)\u001b[0m\u001b[1;33m\u001b[0m\u001b[1;33m\u001b[0m\u001b[0m\n\u001b[0m\u001b[0;32m    581\u001b[0m \u001b[1;33m\u001b[0m\u001b[0m\n\u001b[0;32m    582\u001b[0m         \u001b[0mnew_values\u001b[0m \u001b[1;33m=\u001b[0m \u001b[0mmaybe_coerce_values\u001b[0m\u001b[1;33m(\u001b[0m\u001b[0mnew_values\u001b[0m\u001b[1;33m)\u001b[0m\u001b[1;33m\u001b[0m\u001b[1;33m\u001b[0m\u001b[0m\n",
      "\u001b[1;32mc:\\ProgramData\\Anaconda3\\lib\\site-packages\\pandas\\core\\dtypes\\cast.py\u001b[0m in \u001b[0;36mastype_array_safe\u001b[1;34m(values, dtype, copy, errors)\u001b[0m\n\u001b[0;32m   1290\u001b[0m \u001b[1;33m\u001b[0m\u001b[0m\n\u001b[0;32m   1291\u001b[0m     \u001b[1;32mtry\u001b[0m\u001b[1;33m:\u001b[0m\u001b[1;33m\u001b[0m\u001b[1;33m\u001b[0m\u001b[0m\n\u001b[1;32m-> 1292\u001b[1;33m         \u001b[0mnew_values\u001b[0m \u001b[1;33m=\u001b[0m \u001b[0mastype_array\u001b[0m\u001b[1;33m(\u001b[0m\u001b[0mvalues\u001b[0m\u001b[1;33m,\u001b[0m \u001b[0mdtype\u001b[0m\u001b[1;33m,\u001b[0m \u001b[0mcopy\u001b[0m\u001b[1;33m=\u001b[0m\u001b[0mcopy\u001b[0m\u001b[1;33m)\u001b[0m\u001b[1;33m\u001b[0m\u001b[1;33m\u001b[0m\u001b[0m\n\u001b[0m\u001b[0;32m   1293\u001b[0m     \u001b[1;32mexcept\u001b[0m \u001b[1;33m(\u001b[0m\u001b[0mValueError\u001b[0m\u001b[1;33m,\u001b[0m \u001b[0mTypeError\u001b[0m\u001b[1;33m)\u001b[0m\u001b[1;33m:\u001b[0m\u001b[1;33m\u001b[0m\u001b[1;33m\u001b[0m\u001b[0m\n\u001b[0;32m   1294\u001b[0m         \u001b[1;31m# e.g. astype_nansafe can fail on object-dtype of strings\u001b[0m\u001b[1;33m\u001b[0m\u001b[1;33m\u001b[0m\u001b[0m\n",
      "\u001b[1;32mc:\\ProgramData\\Anaconda3\\lib\\site-packages\\pandas\\core\\dtypes\\cast.py\u001b[0m in \u001b[0;36mastype_array\u001b[1;34m(values, dtype, copy)\u001b[0m\n\u001b[0;32m   1235\u001b[0m \u001b[1;33m\u001b[0m\u001b[0m\n\u001b[0;32m   1236\u001b[0m     \u001b[1;32melse\u001b[0m\u001b[1;33m:\u001b[0m\u001b[1;33m\u001b[0m\u001b[1;33m\u001b[0m\u001b[0m\n\u001b[1;32m-> 1237\u001b[1;33m         \u001b[0mvalues\u001b[0m \u001b[1;33m=\u001b[0m \u001b[0mastype_nansafe\u001b[0m\u001b[1;33m(\u001b[0m\u001b[0mvalues\u001b[0m\u001b[1;33m,\u001b[0m \u001b[0mdtype\u001b[0m\u001b[1;33m,\u001b[0m \u001b[0mcopy\u001b[0m\u001b[1;33m=\u001b[0m\u001b[0mcopy\u001b[0m\u001b[1;33m)\u001b[0m\u001b[1;33m\u001b[0m\u001b[1;33m\u001b[0m\u001b[0m\n\u001b[0m\u001b[0;32m   1238\u001b[0m \u001b[1;33m\u001b[0m\u001b[0m\n\u001b[0;32m   1239\u001b[0m     \u001b[1;31m# in pandas we don't store numpy str dtypes, so convert to object\u001b[0m\u001b[1;33m\u001b[0m\u001b[1;33m\u001b[0m\u001b[0m\n",
      "\u001b[1;32mc:\\ProgramData\\Anaconda3\\lib\\site-packages\\pandas\\core\\dtypes\\cast.py\u001b[0m in \u001b[0;36mastype_nansafe\u001b[1;34m(arr, dtype, copy, skipna)\u001b[0m\n\u001b[0;32m   1179\u001b[0m     \u001b[1;32mif\u001b[0m \u001b[0mcopy\u001b[0m \u001b[1;32mor\u001b[0m \u001b[0mis_object_dtype\u001b[0m\u001b[1;33m(\u001b[0m\u001b[0marr\u001b[0m\u001b[1;33m.\u001b[0m\u001b[0mdtype\u001b[0m\u001b[1;33m)\u001b[0m \u001b[1;32mor\u001b[0m \u001b[0mis_object_dtype\u001b[0m\u001b[1;33m(\u001b[0m\u001b[0mdtype\u001b[0m\u001b[1;33m)\u001b[0m\u001b[1;33m:\u001b[0m\u001b[1;33m\u001b[0m\u001b[1;33m\u001b[0m\u001b[0m\n\u001b[0;32m   1180\u001b[0m         \u001b[1;31m# Explicit copy, or required since NumPy can't view from / to object.\u001b[0m\u001b[1;33m\u001b[0m\u001b[1;33m\u001b[0m\u001b[0m\n\u001b[1;32m-> 1181\u001b[1;33m         \u001b[1;32mreturn\u001b[0m \u001b[0marr\u001b[0m\u001b[1;33m.\u001b[0m\u001b[0mastype\u001b[0m\u001b[1;33m(\u001b[0m\u001b[0mdtype\u001b[0m\u001b[1;33m,\u001b[0m \u001b[0mcopy\u001b[0m\u001b[1;33m=\u001b[0m\u001b[1;32mTrue\u001b[0m\u001b[1;33m)\u001b[0m\u001b[1;33m\u001b[0m\u001b[1;33m\u001b[0m\u001b[0m\n\u001b[0m\u001b[0;32m   1182\u001b[0m \u001b[1;33m\u001b[0m\u001b[0m\n\u001b[0;32m   1183\u001b[0m     \u001b[1;32mreturn\u001b[0m \u001b[0marr\u001b[0m\u001b[1;33m.\u001b[0m\u001b[0mastype\u001b[0m\u001b[1;33m(\u001b[0m\u001b[0mdtype\u001b[0m\u001b[1;33m,\u001b[0m \u001b[0mcopy\u001b[0m\u001b[1;33m=\u001b[0m\u001b[0mcopy\u001b[0m\u001b[1;33m)\u001b[0m\u001b[1;33m\u001b[0m\u001b[1;33m\u001b[0m\u001b[0m\n",
      "\u001b[1;31mValueError\u001b[0m: could not convert string to float: '16,831.9'"
     ]
    }
   ],
   "source": [
    "bit_copy.isnull().sum() # 다행히 NaN 값은 없음.\n",
    "bit_copy.info() # 모든 컬럼의 데이터 타입이 object로 되어있음.\n",
    "# 종가, 오픈, 고가, 저가의 컬럼 데이터 타입을 float로 변경하고자 함.\n",
    "bit_copy['종가'] = bit_copy['종가'].astype('float')\n",
    "# string 데이터에 comma(,)가 있기 때문에 바로 전환이 안됨."
   ]
  },
  {
   "cell_type": "code",
   "execution_count": 289,
   "metadata": {},
   "outputs": [],
   "source": [
    "# Python: Convert string with comma separator and dot to float\n",
    "import locale\n",
    "locale.setlocale(locale.LC_ALL, 'en_US.UTF-8')\n",
    "\n",
    "bit_copy['종가'] = bit_copy['종가'].map(locale.atof)"
   ]
  },
  {
   "cell_type": "code",
   "execution_count": 290,
   "metadata": {},
   "outputs": [
    {
     "data": {
      "text/plain": [
       "dtype('float64')"
      ]
     },
     "execution_count": 290,
     "metadata": {},
     "output_type": "execute_result"
    }
   ],
   "source": [
    "bit_copy['종가'].dtype # '종가'컬럼의 데이터 타입이 float64로 변경됨"
   ]
  },
  {
   "cell_type": "code",
   "execution_count": 291,
   "metadata": {},
   "outputs": [],
   "source": [
    "# bit_copy[['오픈','고가','저가']] = bit_copy[['오픈','고가','저가']].map(locale.atof)\n",
    "# 위처럼 하니 오류가 발생하여 그냥 하나씩 진행함\n",
    "bit_copy['오픈'] = bit_copy['오픈'].map(locale.atof)\n",
    "bit_copy['고가'] = bit_copy['고가'].map(locale.atof)\n",
    "bit_copy['저가'] = bit_copy['저가'].map(locale.atof)"
   ]
  },
  {
   "cell_type": "code",
   "execution_count": 292,
   "metadata": {},
   "outputs": [
    {
     "name": "stdout",
     "output_type": "stream",
     "text": [
      "<class 'pandas.core.frame.DataFrame'>\n",
      "RangeIndex: 761 entries, 0 to 760\n",
      "Data columns (total 7 columns):\n",
      " #   Column  Non-Null Count  Dtype  \n",
      "---  ------  --------------  -----  \n",
      " 0   날짜      761 non-null    object \n",
      " 1   종가      761 non-null    float64\n",
      " 2   오픈      761 non-null    float64\n",
      " 3   고가      761 non-null    float64\n",
      " 4   저가      761 non-null    float64\n",
      " 5   거래량     761 non-null    object \n",
      " 6   변동 %    761 non-null    object \n",
      "dtypes: float64(4), object(3)\n",
      "memory usage: 41.7+ KB\n"
     ]
    }
   ],
   "source": [
    "bit_copy.info() # 오픈, 고가, 저가의 데이터 타입이 float64로 변경된 것을 확인"
   ]
  },
  {
   "cell_type": "code",
   "execution_count": 293,
   "metadata": {},
   "outputs": [
    {
     "data": {
      "text/plain": [
       "0    133.33K\n",
       "1    132.89K\n",
       "2    110.12K\n",
       "3    184.12K\n",
       "4    198.28K\n",
       "Name: 거래량, dtype: object"
      ]
     },
     "execution_count": 293,
     "metadata": {},
     "output_type": "execute_result"
    }
   ],
   "source": [
    "bit_copy['거래량'].head() # 거래량의 K는 1000을 뜻함. 이를 K를 없애고 일반 숫자로 변환하고 싶음."
   ]
  },
  {
   "cell_type": "code",
   "execution_count": 294,
   "metadata": {},
   "outputs": [
    {
     "name": "stderr",
     "output_type": "stream",
     "text": [
      "C:\\Users\\Jasper\\AppData\\Local\\Temp\\ipykernel_26092\\1011294417.py:2: SettingWithCopyWarning: \n",
      "A value is trying to be set on a copy of a slice from a DataFrame\n",
      "\n",
      "See the caveats in the documentation: https://pandas.pydata.org/pandas-docs/stable/user_guide/indexing.html#returning-a-view-versus-a-copy\n",
      "  bit_copy['거래량'][i] = bit_copy['거래량'][i][:-1] # 마지막 단어 K를 없앰\n"
     ]
    },
    {
     "data": {
      "text/plain": [
       "0    133.33\n",
       "1    132.89\n",
       "2    110.12\n",
       "3    184.12\n",
       "4    198.28\n",
       "Name: 거래량, dtype: object"
      ]
     },
     "execution_count": 294,
     "metadata": {},
     "output_type": "execute_result"
    }
   ],
   "source": [
    "for i in range(len(bit_copy['거래량'])):\n",
    "    bit_copy['거래량'][i] = bit_copy['거래량'][i][:-1] # 마지막 단어 K를 없앰\n",
    "bit_copy['거래량'].head()"
   ]
  },
  {
   "cell_type": "code",
   "execution_count": 295,
   "metadata": {},
   "outputs": [],
   "source": [
    "bit_copy['거래량'] = bit_copy['거래량'].map(locale.atof) #거래량을 float64로 변경\n",
    "bit_copy['거래량'] *= 1000 # 단위수 맞춤"
   ]
  },
  {
   "cell_type": "code",
   "execution_count": 296,
   "metadata": {},
   "outputs": [
    {
     "data": {
      "text/html": [
       "<div>\n",
       "<style scoped>\n",
       "    .dataframe tbody tr th:only-of-type {\n",
       "        vertical-align: middle;\n",
       "    }\n",
       "\n",
       "    .dataframe tbody tr th {\n",
       "        vertical-align: top;\n",
       "    }\n",
       "\n",
       "    .dataframe thead th {\n",
       "        text-align: right;\n",
       "    }\n",
       "</style>\n",
       "<table border=\"1\" class=\"dataframe\">\n",
       "  <thead>\n",
       "    <tr style=\"text-align: right;\">\n",
       "      <th></th>\n",
       "      <th>날짜</th>\n",
       "      <th>종가</th>\n",
       "      <th>오픈</th>\n",
       "      <th>고가</th>\n",
       "      <th>저가</th>\n",
       "      <th>거래량</th>\n",
       "      <th>변동 %</th>\n",
       "    </tr>\n",
       "  </thead>\n",
       "  <tbody>\n",
       "    <tr>\n",
       "      <th>0</th>\n",
       "      <td>2022년 12월 26일</td>\n",
       "      <td>16831.9</td>\n",
       "      <td>16831.8</td>\n",
       "      <td>16836.5</td>\n",
       "      <td>16822.0</td>\n",
       "      <td>133330.0</td>\n",
       "      <td>0.00%</td>\n",
       "    </tr>\n",
       "    <tr>\n",
       "      <th>1</th>\n",
       "      <td>2022년 12월 25일</td>\n",
       "      <td>16831.8</td>\n",
       "      <td>16835.7</td>\n",
       "      <td>16852.9</td>\n",
       "      <td>16733.0</td>\n",
       "      <td>132890.0</td>\n",
       "      <td>-0.03%</td>\n",
       "    </tr>\n",
       "    <tr>\n",
       "      <th>2</th>\n",
       "      <td>2022년 12월 24일</td>\n",
       "      <td>16837.2</td>\n",
       "      <td>16778.6</td>\n",
       "      <td>16855.8</td>\n",
       "      <td>16777.8</td>\n",
       "      <td>110120.0</td>\n",
       "      <td>0.35%</td>\n",
       "    </tr>\n",
       "    <tr>\n",
       "      <th>3</th>\n",
       "      <td>2022년 12월 23일</td>\n",
       "      <td>16779.1</td>\n",
       "      <td>16820.5</td>\n",
       "      <td>16910.7</td>\n",
       "      <td>16768.0</td>\n",
       "      <td>184120.0</td>\n",
       "      <td>-0.25%</td>\n",
       "    </tr>\n",
       "    <tr>\n",
       "      <th>4</th>\n",
       "      <td>2022년 12월 22일</td>\n",
       "      <td>16820.6</td>\n",
       "      <td>16831.8</td>\n",
       "      <td>16862.2</td>\n",
       "      <td>16566.1</td>\n",
       "      <td>198280.0</td>\n",
       "      <td>-0.07%</td>\n",
       "    </tr>\n",
       "  </tbody>\n",
       "</table>\n",
       "</div>"
      ],
      "text/plain": [
       "              날짜       종가       오픈       고가       저가       거래량    변동 %\n",
       "0  2022년 12월 26일  16831.9  16831.8  16836.5  16822.0  133330.0   0.00%\n",
       "1  2022년 12월 25일  16831.8  16835.7  16852.9  16733.0  132890.0  -0.03%\n",
       "2  2022년 12월 24일  16837.2  16778.6  16855.8  16777.8  110120.0   0.35%\n",
       "3  2022년 12월 23일  16779.1  16820.5  16910.7  16768.0  184120.0  -0.25%\n",
       "4  2022년 12월 22일  16820.6  16831.8  16862.2  16566.1  198280.0  -0.07%"
      ]
     },
     "execution_count": 296,
     "metadata": {},
     "output_type": "execute_result"
    }
   ],
   "source": [
    "bit_copy.head()"
   ]
  },
  {
   "cell_type": "code",
   "execution_count": 297,
   "metadata": {},
   "outputs": [
    {
     "data": {
      "text/plain": [
       "0    2022년 12월 26일\n",
       "1    2022년 12월 25일\n",
       "2    2022년 12월 24일\n",
       "3    2022년 12월 23일\n",
       "4    2022년 12월 22일\n",
       "Name: 날짜, dtype: object"
      ]
     },
     "execution_count": 297,
     "metadata": {},
     "output_type": "execute_result"
    }
   ],
   "source": [
    "# 날짜를 연, 월, 일로 분리하고 싶음\n",
    "bit_copy['날짜'].head()"
   ]
  },
  {
   "cell_type": "code",
   "execution_count": 298,
   "metadata": {},
   "outputs": [],
   "source": [
    "# bit_copy_date = bit_copy.copy()\n",
    "# 날짜의 데이터는 '2022년 12월 26일'로 구분자가 3개가 있음.\n",
    "# 구분자를 하나로 변경.\n",
    "bit_copy['날짜'] = bit_copy['날짜'].apply(lambda x: x.replace('년 ','-').replace('월 ', '-').replace('일', ''))\n",
    "\n",
    "dates = bit_copy['날짜'].str.split('-') # 리스트로 데이터 리턴\n",
    "bit_copy['연'] = dates.str.get(0)\n",
    "bit_copy['월'] = dates.str.get(1)\n",
    "bit_copy['일'] = dates.str.get(2)"
   ]
  },
  {
   "cell_type": "code",
   "execution_count": 299,
   "metadata": {},
   "outputs": [
    {
     "data": {
      "text/html": [
       "<div>\n",
       "<style scoped>\n",
       "    .dataframe tbody tr th:only-of-type {\n",
       "        vertical-align: middle;\n",
       "    }\n",
       "\n",
       "    .dataframe tbody tr th {\n",
       "        vertical-align: top;\n",
       "    }\n",
       "\n",
       "    .dataframe thead th {\n",
       "        text-align: right;\n",
       "    }\n",
       "</style>\n",
       "<table border=\"1\" class=\"dataframe\">\n",
       "  <thead>\n",
       "    <tr style=\"text-align: right;\">\n",
       "      <th></th>\n",
       "      <th>날짜</th>\n",
       "      <th>종가</th>\n",
       "      <th>오픈</th>\n",
       "      <th>고가</th>\n",
       "      <th>저가</th>\n",
       "      <th>거래량</th>\n",
       "      <th>변동 %</th>\n",
       "      <th>연</th>\n",
       "      <th>월</th>\n",
       "      <th>일</th>\n",
       "    </tr>\n",
       "  </thead>\n",
       "  <tbody>\n",
       "    <tr>\n",
       "      <th>0</th>\n",
       "      <td>2022-12-26</td>\n",
       "      <td>16831.9</td>\n",
       "      <td>16831.8</td>\n",
       "      <td>16836.5</td>\n",
       "      <td>16822.0</td>\n",
       "      <td>133330.0</td>\n",
       "      <td>0.00%</td>\n",
       "      <td>2022</td>\n",
       "      <td>12</td>\n",
       "      <td>26</td>\n",
       "    </tr>\n",
       "    <tr>\n",
       "      <th>1</th>\n",
       "      <td>2022-12-25</td>\n",
       "      <td>16831.8</td>\n",
       "      <td>16835.7</td>\n",
       "      <td>16852.9</td>\n",
       "      <td>16733.0</td>\n",
       "      <td>132890.0</td>\n",
       "      <td>-0.03%</td>\n",
       "      <td>2022</td>\n",
       "      <td>12</td>\n",
       "      <td>25</td>\n",
       "    </tr>\n",
       "    <tr>\n",
       "      <th>2</th>\n",
       "      <td>2022-12-24</td>\n",
       "      <td>16837.2</td>\n",
       "      <td>16778.6</td>\n",
       "      <td>16855.8</td>\n",
       "      <td>16777.8</td>\n",
       "      <td>110120.0</td>\n",
       "      <td>0.35%</td>\n",
       "      <td>2022</td>\n",
       "      <td>12</td>\n",
       "      <td>24</td>\n",
       "    </tr>\n",
       "    <tr>\n",
       "      <th>3</th>\n",
       "      <td>2022-12-23</td>\n",
       "      <td>16779.1</td>\n",
       "      <td>16820.5</td>\n",
       "      <td>16910.7</td>\n",
       "      <td>16768.0</td>\n",
       "      <td>184120.0</td>\n",
       "      <td>-0.25%</td>\n",
       "      <td>2022</td>\n",
       "      <td>12</td>\n",
       "      <td>23</td>\n",
       "    </tr>\n",
       "    <tr>\n",
       "      <th>4</th>\n",
       "      <td>2022-12-22</td>\n",
       "      <td>16820.6</td>\n",
       "      <td>16831.8</td>\n",
       "      <td>16862.2</td>\n",
       "      <td>16566.1</td>\n",
       "      <td>198280.0</td>\n",
       "      <td>-0.07%</td>\n",
       "      <td>2022</td>\n",
       "      <td>12</td>\n",
       "      <td>22</td>\n",
       "    </tr>\n",
       "  </tbody>\n",
       "</table>\n",
       "</div>"
      ],
      "text/plain": [
       "           날짜       종가       오픈       고가       저가       거래량    변동 %     연   월  \\\n",
       "0  2022-12-26  16831.9  16831.8  16836.5  16822.0  133330.0   0.00%  2022  12   \n",
       "1  2022-12-25  16831.8  16835.7  16852.9  16733.0  132890.0  -0.03%  2022  12   \n",
       "2  2022-12-24  16837.2  16778.6  16855.8  16777.8  110120.0   0.35%  2022  12   \n",
       "3  2022-12-23  16779.1  16820.5  16910.7  16768.0  184120.0  -0.25%  2022  12   \n",
       "4  2022-12-22  16820.6  16831.8  16862.2  16566.1  198280.0  -0.07%  2022  12   \n",
       "\n",
       "    일  \n",
       "0  26  \n",
       "1  25  \n",
       "2  24  \n",
       "3  23  \n",
       "4  22  "
      ]
     },
     "execution_count": 299,
     "metadata": {},
     "output_type": "execute_result"
    }
   ],
   "source": [
    "bit_copy.head()"
   ]
  },
  {
   "cell_type": "code",
   "execution_count": 300,
   "metadata": {},
   "outputs": [],
   "source": [
    "# '변동 %'를 '변동률'로 컬럼명 변경 -> 추후 drop 해도 될듯\n",
    "bit_copy.rename(columns={'변동 %':'변동률'}, inplace=True)"
   ]
  },
  {
   "cell_type": "code",
   "execution_count": 301,
   "metadata": {},
   "outputs": [
    {
     "name": "stderr",
     "output_type": "stream",
     "text": [
      "C:\\Users\\Jasper\\AppData\\Local\\Temp\\ipykernel_26092\\418020374.py:3: SettingWithCopyWarning: \n",
      "A value is trying to be set on a copy of a slice from a DataFrame\n",
      "\n",
      "See the caveats in the documentation: https://pandas.pydata.org/pandas-docs/stable/user_guide/indexing.html#returning-a-view-versus-a-copy\n",
      "  bit_copy['변동률'][i] = bit_copy['변동률'][i][:-1] # 마지막 단어 %를 없앰\n"
     ]
    },
    {
     "data": {
      "text/plain": [
       "0    0.0000\n",
       "1   -0.0003\n",
       "2    0.0035\n",
       "3   -0.0025\n",
       "4   -0.0007\n",
       "Name: 변동률, dtype: float64"
      ]
     },
     "execution_count": 301,
     "metadata": {},
     "output_type": "execute_result"
    }
   ],
   "source": [
    "# 변동률을 계산에 활용할 수 있게끔 float로 변경\n",
    "for i in range(len(bit_copy['변동률'])):\n",
    "    bit_copy['변동률'][i] = bit_copy['변동률'][i][:-1] # 마지막 단어 %를 없앰\n",
    "bit_copy['변동률'] = bit_copy['변동률'].map(locale.atof) #거래량을 float64로 변경\n",
    "bit_copy['변동률'] /= 100 # 퍼센트 단위수 맞춤\n",
    "bit_copy['변동률'].head()"
   ]
  },
  {
   "cell_type": "code",
   "execution_count": 302,
   "metadata": {},
   "outputs": [],
   "source": [
    "# '오픈'을 '시가'로 컬럼명 변경\n",
    "bit_copy.rename(columns={'오픈':'시가'}, inplace=True)"
   ]
  },
  {
   "cell_type": "code",
   "execution_count": 303,
   "metadata": {},
   "outputs": [],
   "source": [
    "# '종가'를 '당일종가'로 컬럼명 변경\n",
    "bit_copy.rename(columns={'종가':'당일종가'}, inplace=True)"
   ]
  },
  {
   "cell_type": "code",
   "execution_count": 304,
   "metadata": {},
   "outputs": [
    {
     "data": {
      "text/html": [
       "<div>\n",
       "<style scoped>\n",
       "    .dataframe tbody tr th:only-of-type {\n",
       "        vertical-align: middle;\n",
       "    }\n",
       "\n",
       "    .dataframe tbody tr th {\n",
       "        vertical-align: top;\n",
       "    }\n",
       "\n",
       "    .dataframe thead th {\n",
       "        text-align: right;\n",
       "    }\n",
       "</style>\n",
       "<table border=\"1\" class=\"dataframe\">\n",
       "  <thead>\n",
       "    <tr style=\"text-align: right;\">\n",
       "      <th></th>\n",
       "      <th>날짜</th>\n",
       "      <th>당일종가</th>\n",
       "      <th>시가</th>\n",
       "      <th>고가</th>\n",
       "      <th>저가</th>\n",
       "      <th>거래량</th>\n",
       "      <th>변동률</th>\n",
       "      <th>연</th>\n",
       "      <th>월</th>\n",
       "      <th>일</th>\n",
       "      <th>전일종가</th>\n",
       "    </tr>\n",
       "  </thead>\n",
       "  <tbody>\n",
       "    <tr>\n",
       "      <th>756</th>\n",
       "      <td>2020-11-30</td>\n",
       "      <td>19698.1</td>\n",
       "      <td>18186.0</td>\n",
       "      <td>19831.2</td>\n",
       "      <td>18186.0</td>\n",
       "      <td>185590.0</td>\n",
       "      <td>0.0832</td>\n",
       "      <td>2020</td>\n",
       "      <td>11</td>\n",
       "      <td>30</td>\n",
       "      <td>18185.5</td>\n",
       "    </tr>\n",
       "    <tr>\n",
       "      <th>757</th>\n",
       "      <td>2020-11-29</td>\n",
       "      <td>18185.5</td>\n",
       "      <td>17729.7</td>\n",
       "      <td>18336.3</td>\n",
       "      <td>17530.4</td>\n",
       "      <td>79120.0</td>\n",
       "      <td>0.0257</td>\n",
       "      <td>2020</td>\n",
       "      <td>11</td>\n",
       "      <td>29</td>\n",
       "      <td>17730.7</td>\n",
       "    </tr>\n",
       "    <tr>\n",
       "      <th>758</th>\n",
       "      <td>2020-11-28</td>\n",
       "      <td>17730.7</td>\n",
       "      <td>17142.6</td>\n",
       "      <td>17874.4</td>\n",
       "      <td>16874.4</td>\n",
       "      <td>95200.0</td>\n",
       "      <td>0.0352</td>\n",
       "      <td>2020</td>\n",
       "      <td>11</td>\n",
       "      <td>28</td>\n",
       "      <td>17127.1</td>\n",
       "    </tr>\n",
       "    <tr>\n",
       "      <th>759</th>\n",
       "      <td>2020-11-27</td>\n",
       "      <td>17127.1</td>\n",
       "      <td>17160.9</td>\n",
       "      <td>17450.3</td>\n",
       "      <td>16481.6</td>\n",
       "      <td>138800.0</td>\n",
       "      <td>-0.0020</td>\n",
       "      <td>2020</td>\n",
       "      <td>11</td>\n",
       "      <td>27</td>\n",
       "      <td>17162.0</td>\n",
       "    </tr>\n",
       "    <tr>\n",
       "      <th>760</th>\n",
       "      <td>2020-11-26</td>\n",
       "      <td>17162.0</td>\n",
       "      <td>18721.9</td>\n",
       "      <td>18894.9</td>\n",
       "      <td>16235.2</td>\n",
       "      <td>312070.0</td>\n",
       "      <td>-0.0834</td>\n",
       "      <td>2020</td>\n",
       "      <td>11</td>\n",
       "      <td>26</td>\n",
       "      <td>NaN</td>\n",
       "    </tr>\n",
       "  </tbody>\n",
       "</table>\n",
       "</div>"
      ],
      "text/plain": [
       "             날짜     당일종가       시가       고가       저가       거래량     변동률     연  \\\n",
       "756  2020-11-30  19698.1  18186.0  19831.2  18186.0  185590.0  0.0832  2020   \n",
       "757  2020-11-29  18185.5  17729.7  18336.3  17530.4   79120.0  0.0257  2020   \n",
       "758  2020-11-28  17730.7  17142.6  17874.4  16874.4   95200.0  0.0352  2020   \n",
       "759  2020-11-27  17127.1  17160.9  17450.3  16481.6  138800.0 -0.0020  2020   \n",
       "760  2020-11-26  17162.0  18721.9  18894.9  16235.2  312070.0 -0.0834  2020   \n",
       "\n",
       "      월   일     전일종가  \n",
       "756  11  30  18185.5  \n",
       "757  11  29  17730.7  \n",
       "758  11  28  17127.1  \n",
       "759  11  27  17162.0  \n",
       "760  11  26      NaN  "
      ]
     },
     "execution_count": 304,
     "metadata": {},
     "output_type": "execute_result"
    }
   ],
   "source": [
    "# '전일종가' 컬럼을 추가, 변동률 계산 확인을 위해..?\n",
    "bit_copy_last = bit_copy.copy()\n",
    "bit_copy_last['전일종가'] = bit_copy_last.loc[:,'당일종가'].shift(-1)\n",
    "bit_copy_last.tail() # 마지막 열의 전일 종가가 없음. 변동률을 확인하여 임의로 대입\n",
    "# a = (b * c) + b\n",
    "# bit_copy_last['전일종가']"
   ]
  },
  {
   "cell_type": "code",
   "execution_count": 305,
   "metadata": {},
   "outputs": [],
   "source": [
    "# '종류'라는 컬럼에 '비트코인' 추가\n",
    "bit_copy['종류'] = '비트코인'"
   ]
  },
  {
   "cell_type": "code",
   "execution_count": 306,
   "metadata": {},
   "outputs": [
    {
     "data": {
      "text/html": [
       "<div>\n",
       "<style scoped>\n",
       "    .dataframe tbody tr th:only-of-type {\n",
       "        vertical-align: middle;\n",
       "    }\n",
       "\n",
       "    .dataframe tbody tr th {\n",
       "        vertical-align: top;\n",
       "    }\n",
       "\n",
       "    .dataframe thead th {\n",
       "        text-align: right;\n",
       "    }\n",
       "</style>\n",
       "<table border=\"1\" class=\"dataframe\">\n",
       "  <thead>\n",
       "    <tr style=\"text-align: right;\">\n",
       "      <th></th>\n",
       "      <th>날짜</th>\n",
       "      <th>당일종가</th>\n",
       "      <th>시가</th>\n",
       "      <th>고가</th>\n",
       "      <th>저가</th>\n",
       "      <th>거래량</th>\n",
       "      <th>변동률</th>\n",
       "      <th>연</th>\n",
       "      <th>월</th>\n",
       "      <th>일</th>\n",
       "      <th>종류</th>\n",
       "    </tr>\n",
       "  </thead>\n",
       "  <tbody>\n",
       "    <tr>\n",
       "      <th>0</th>\n",
       "      <td>2022-12-26</td>\n",
       "      <td>16831.9</td>\n",
       "      <td>16831.8</td>\n",
       "      <td>16836.5</td>\n",
       "      <td>16822.0</td>\n",
       "      <td>133330.0</td>\n",
       "      <td>0.0000</td>\n",
       "      <td>2022</td>\n",
       "      <td>12</td>\n",
       "      <td>26</td>\n",
       "      <td>비트코인</td>\n",
       "    </tr>\n",
       "    <tr>\n",
       "      <th>1</th>\n",
       "      <td>2022-12-25</td>\n",
       "      <td>16831.8</td>\n",
       "      <td>16835.7</td>\n",
       "      <td>16852.9</td>\n",
       "      <td>16733.0</td>\n",
       "      <td>132890.0</td>\n",
       "      <td>-0.0003</td>\n",
       "      <td>2022</td>\n",
       "      <td>12</td>\n",
       "      <td>25</td>\n",
       "      <td>비트코인</td>\n",
       "    </tr>\n",
       "    <tr>\n",
       "      <th>2</th>\n",
       "      <td>2022-12-24</td>\n",
       "      <td>16837.2</td>\n",
       "      <td>16778.6</td>\n",
       "      <td>16855.8</td>\n",
       "      <td>16777.8</td>\n",
       "      <td>110120.0</td>\n",
       "      <td>0.0035</td>\n",
       "      <td>2022</td>\n",
       "      <td>12</td>\n",
       "      <td>24</td>\n",
       "      <td>비트코인</td>\n",
       "    </tr>\n",
       "    <tr>\n",
       "      <th>3</th>\n",
       "      <td>2022-12-23</td>\n",
       "      <td>16779.1</td>\n",
       "      <td>16820.5</td>\n",
       "      <td>16910.7</td>\n",
       "      <td>16768.0</td>\n",
       "      <td>184120.0</td>\n",
       "      <td>-0.0025</td>\n",
       "      <td>2022</td>\n",
       "      <td>12</td>\n",
       "      <td>23</td>\n",
       "      <td>비트코인</td>\n",
       "    </tr>\n",
       "    <tr>\n",
       "      <th>4</th>\n",
       "      <td>2022-12-22</td>\n",
       "      <td>16820.6</td>\n",
       "      <td>16831.8</td>\n",
       "      <td>16862.2</td>\n",
       "      <td>16566.1</td>\n",
       "      <td>198280.0</td>\n",
       "      <td>-0.0007</td>\n",
       "      <td>2022</td>\n",
       "      <td>12</td>\n",
       "      <td>22</td>\n",
       "      <td>비트코인</td>\n",
       "    </tr>\n",
       "  </tbody>\n",
       "</table>\n",
       "</div>"
      ],
      "text/plain": [
       "           날짜     당일종가       시가       고가       저가       거래량     변동률     연   월  \\\n",
       "0  2022-12-26  16831.9  16831.8  16836.5  16822.0  133330.0  0.0000  2022  12   \n",
       "1  2022-12-25  16831.8  16835.7  16852.9  16733.0  132890.0 -0.0003  2022  12   \n",
       "2  2022-12-24  16837.2  16778.6  16855.8  16777.8  110120.0  0.0035  2022  12   \n",
       "3  2022-12-23  16779.1  16820.5  16910.7  16768.0  184120.0 -0.0025  2022  12   \n",
       "4  2022-12-22  16820.6  16831.8  16862.2  16566.1  198280.0 -0.0007  2022  12   \n",
       "\n",
       "    일    종류  \n",
       "0  26  비트코인  \n",
       "1  25  비트코인  \n",
       "2  24  비트코인  \n",
       "3  23  비트코인  \n",
       "4  22  비트코인  "
      ]
     },
     "execution_count": 306,
     "metadata": {},
     "output_type": "execute_result"
    }
   ],
   "source": [
    "# 데이터프레임 컬럼 순서 변경\n",
    "# bit_copy = bit_copy[['종류','날짜','연','월','일','당일종가','전일종가','변동률','시가','고가','저가','거래량']]\n",
    "bit_copy.head()"
   ]
  }
 ],
 "metadata": {
  "kernelspec": {
   "display_name": "base",
   "language": "python",
   "name": "python3"
  },
  "language_info": {
   "codemirror_mode": {
    "name": "ipython",
    "version": 3
   },
   "file_extension": ".py",
   "mimetype": "text/x-python",
   "name": "python",
   "nbconvert_exporter": "python",
   "pygments_lexer": "ipython3",
   "version": "3.9.13"
  },
  "orig_nbformat": 4,
  "vscode": {
   "interpreter": {
    "hash": "ad2bdc8ecc057115af97d19610ffacc2b4e99fae6737bb82f5d7fb13d2f2c186"
   }
  }
 },
 "nbformat": 4,
 "nbformat_minor": 2
}
